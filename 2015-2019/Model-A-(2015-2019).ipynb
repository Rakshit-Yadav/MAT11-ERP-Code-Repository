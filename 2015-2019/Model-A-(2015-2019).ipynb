{
 "cells": [
  {
   "cell_type": "markdown",
   "metadata": {},
   "source": [
    "## Model - 1 : Linear Regressino Model for Beta estimation in context to Capital Asset Pricing Model (CAPM)\n",
    "---"
   ]
  },
  {
   "cell_type": "code",
   "execution_count": 1,
   "metadata": {},
   "outputs": [],
   "source": [
    "#importing all required libraries\n",
    "import yfinance as yf\n",
    "import pandas as pd\n",
    "import matplotlib.pyplot as plt\n",
    "import numpy as np\n",
    "import seaborn as sns\n",
    "from scipy import stats\n",
    "import plotly.express as px\n",
    "import plotly.figure_factory as ff\n",
    "import plotly.graph_objects as go\n",
    "from sklearn.model_selection import train_test_split\n",
    "from pykalman import KalmanFilter\n",
    "from sklearn.metrics import mean_squared_error, mean_absolute_error, r2_score\n",
    "import statsmodels.api as sm\n",
    "# Plotly.express module can plot interactive plots easily and effectively."
   ]
  },
  {
   "cell_type": "code",
   "execution_count": 3,
   "metadata": {},
   "outputs": [
    {
     "name": "stdout",
     "output_type": "stream",
     "text": [
      "            Market_Returns  Asset_Returns\n",
      "Date                                     \n",
      "2015-01-02        0.000000       0.000000\n",
      "2015-01-05       -0.018278      -0.016890\n",
      "2015-01-06       -0.008894      -0.030320\n",
      "2015-01-07        0.011629      -0.002606\n",
      "2015-01-08        0.017888       0.037617\n"
     ]
    }
   ],
   "source": [
    "\n",
    "# Load CSV file and parse the 'Date' column as dates\n",
    "transformed_df = pd.read_csv(\"transformed_returns_(2015-2019).csv\", parse_dates=['Date'], index_col='Date')\n",
    "\n",
    "# Display the first few rows to check if the file was loaded correctly\n",
    "print(transformed_df.head())\n",
    "\n",
    "# data split into train and test\n",
    "linear_train_df, linear_test_df = train_test_split(transformed_df, test_size=0.2, shuffle=False) #shuffle would be false as we are dealing with time series data\n"
   ]
  },
  {
   "cell_type": "code",
   "execution_count": 4,
   "metadata": {},
   "outputs": [
    {
     "data": {
      "text/html": [
       "<div>\n",
       "<style scoped>\n",
       "    .dataframe tbody tr th:only-of-type {\n",
       "        vertical-align: middle;\n",
       "    }\n",
       "\n",
       "    .dataframe tbody tr th {\n",
       "        vertical-align: top;\n",
       "    }\n",
       "\n",
       "    .dataframe thead th {\n",
       "        text-align: right;\n",
       "    }\n",
       "</style>\n",
       "<table border=\"1\" class=\"dataframe\">\n",
       "  <thead>\n",
       "    <tr style=\"text-align: right;\">\n",
       "      <th></th>\n",
       "      <th>Market_Returns</th>\n",
       "      <th>Asset_Returns</th>\n",
       "    </tr>\n",
       "    <tr>\n",
       "      <th>Date</th>\n",
       "      <th></th>\n",
       "      <th></th>\n",
       "    </tr>\n",
       "  </thead>\n",
       "  <tbody>\n",
       "    <tr>\n",
       "      <th>2018-12-14</th>\n",
       "      <td>-0.019181</td>\n",
       "      <td>-0.016482</td>\n",
       "    </tr>\n",
       "    <tr>\n",
       "      <th>2018-12-17</th>\n",
       "      <td>-0.020866</td>\n",
       "      <td>-0.019690</td>\n",
       "    </tr>\n",
       "    <tr>\n",
       "      <th>2018-12-18</th>\n",
       "      <td>-0.000006</td>\n",
       "      <td>0.023309</td>\n",
       "    </tr>\n",
       "    <tr>\n",
       "      <th>2018-12-19</th>\n",
       "      <td>-0.015488</td>\n",
       "      <td>-0.057463</td>\n",
       "    </tr>\n",
       "    <tr>\n",
       "      <th>2018-12-20</th>\n",
       "      <td>-0.015865</td>\n",
       "      <td>-0.024712</td>\n",
       "    </tr>\n",
       "    <tr>\n",
       "      <th>2018-12-21</th>\n",
       "      <td>-0.020681</td>\n",
       "      <td>-0.041025</td>\n",
       "    </tr>\n",
       "    <tr>\n",
       "      <th>2018-12-27</th>\n",
       "      <td>0.008470</td>\n",
       "      <td>-0.014593</td>\n",
       "    </tr>\n",
       "    <tr>\n",
       "      <th>2018-12-28</th>\n",
       "      <td>-0.001334</td>\n",
       "      <td>0.018814</td>\n",
       "    </tr>\n",
       "    <tr>\n",
       "      <th>2018-12-31</th>\n",
       "      <td>0.008401</td>\n",
       "      <td>-0.001213</td>\n",
       "    </tr>\n",
       "    <tr>\n",
       "      <th>2019-01-02</th>\n",
       "      <td>0.001175</td>\n",
       "      <td>0.020280</td>\n",
       "    </tr>\n",
       "  </tbody>\n",
       "</table>\n",
       "</div>"
      ],
      "text/plain": [
       "            Market_Returns  Asset_Returns\n",
       "Date                                     \n",
       "2018-12-14       -0.019181      -0.016482\n",
       "2018-12-17       -0.020866      -0.019690\n",
       "2018-12-18       -0.000006       0.023309\n",
       "2018-12-19       -0.015488      -0.057463\n",
       "2018-12-20       -0.015865      -0.024712\n",
       "2018-12-21       -0.020681      -0.041025\n",
       "2018-12-27        0.008470      -0.014593\n",
       "2018-12-28       -0.001334       0.018814\n",
       "2018-12-31        0.008401      -0.001213\n",
       "2019-01-02        0.001175       0.020280"
      ]
     },
     "execution_count": 4,
     "metadata": {},
     "output_type": "execute_result"
    }
   ],
   "source": [
    "linear_train_df.tail(10)"
   ]
  },
  {
   "cell_type": "code",
   "execution_count": 5,
   "metadata": {},
   "outputs": [
    {
     "data": {
      "text/html": [
       "<div>\n",
       "<style scoped>\n",
       "    .dataframe tbody tr th:only-of-type {\n",
       "        vertical-align: middle;\n",
       "    }\n",
       "\n",
       "    .dataframe tbody tr th {\n",
       "        vertical-align: top;\n",
       "    }\n",
       "\n",
       "    .dataframe thead th {\n",
       "        text-align: right;\n",
       "    }\n",
       "</style>\n",
       "<table border=\"1\" class=\"dataframe\">\n",
       "  <thead>\n",
       "    <tr style=\"text-align: right;\">\n",
       "      <th></th>\n",
       "      <th>Market_Returns</th>\n",
       "      <th>Asset_Returns</th>\n",
       "    </tr>\n",
       "    <tr>\n",
       "      <th>Date</th>\n",
       "      <th></th>\n",
       "      <th></th>\n",
       "    </tr>\n",
       "  </thead>\n",
       "  <tbody>\n",
       "    <tr>\n",
       "      <th>2019-01-03</th>\n",
       "      <td>-0.024850</td>\n",
       "      <td>-0.060510</td>\n",
       "    </tr>\n",
       "    <tr>\n",
       "      <th>2019-01-07</th>\n",
       "      <td>0.006917</td>\n",
       "      <td>0.052847</td>\n",
       "    </tr>\n",
       "    <tr>\n",
       "      <th>2019-01-08</th>\n",
       "      <td>0.009600</td>\n",
       "      <td>-0.024990</td>\n",
       "    </tr>\n",
       "    <tr>\n",
       "      <th>2019-01-09</th>\n",
       "      <td>0.004003</td>\n",
       "      <td>0.019572</td>\n",
       "    </tr>\n",
       "    <tr>\n",
       "      <th>2019-01-10</th>\n",
       "      <td>0.004424</td>\n",
       "      <td>0.018492</td>\n",
       "    </tr>\n",
       "    <tr>\n",
       "      <th>2019-01-11</th>\n",
       "      <td>-0.000240</td>\n",
       "      <td>0.024694</td>\n",
       "    </tr>\n",
       "    <tr>\n",
       "      <th>2019-01-14</th>\n",
       "      <td>-0.005351</td>\n",
       "      <td>0.010724</td>\n",
       "    </tr>\n",
       "    <tr>\n",
       "      <th>2019-01-15</th>\n",
       "      <td>0.010627</td>\n",
       "      <td>-0.003883</td>\n",
       "    </tr>\n",
       "    <tr>\n",
       "      <th>2019-01-16</th>\n",
       "      <td>0.002128</td>\n",
       "      <td>-0.006966</td>\n",
       "    </tr>\n",
       "    <tr>\n",
       "      <th>2019-01-17</th>\n",
       "      <td>0.007498</td>\n",
       "      <td>0.019256</td>\n",
       "    </tr>\n",
       "  </tbody>\n",
       "</table>\n",
       "</div>"
      ],
      "text/plain": [
       "            Market_Returns  Asset_Returns\n",
       "Date                                     \n",
       "2019-01-03       -0.024850      -0.060510\n",
       "2019-01-07        0.006917       0.052847\n",
       "2019-01-08        0.009600      -0.024990\n",
       "2019-01-09        0.004003       0.019572\n",
       "2019-01-10        0.004424       0.018492\n",
       "2019-01-11       -0.000240       0.024694\n",
       "2019-01-14       -0.005351       0.010724\n",
       "2019-01-15        0.010627      -0.003883\n",
       "2019-01-16        0.002128      -0.006966\n",
       "2019-01-17        0.007498       0.019256"
      ]
     },
     "execution_count": 5,
     "metadata": {},
     "output_type": "execute_result"
    }
   ],
   "source": [
    "linear_test_df.head(10)"
   ]
  },
  {
   "cell_type": "code",
   "execution_count": 6,
   "metadata": {},
   "outputs": [
    {
     "name": "stdout",
     "output_type": "stream",
     "text": [
      "                            OLS Regression Results                            \n",
      "==============================================================================\n",
      "Dep. Variable:          Asset_Returns   R-squared:                       0.300\n",
      "Model:                            OLS   Adj. R-squared:                  0.299\n",
      "Method:                 Least Squares   F-statistic:                     418.3\n",
      "Date:                Sat, 07 Sep 2024   Prob (F-statistic):           1.17e-77\n",
      "Time:                        16:18:09   Log-Likelihood:                 2570.4\n",
      "No. Observations:                 979   AIC:                            -5137.\n",
      "Df Residuals:                     977   BIC:                            -5127.\n",
      "Df Model:                           1                                         \n",
      "Covariance Type:            nonrobust                                         \n",
      "==================================================================================\n",
      "                     coef    std err          t      P>|t|      [0.025      0.975]\n",
      "----------------------------------------------------------------------------------\n",
      "const              0.0015      0.001      2.619      0.009       0.000       0.003\n",
      "Market_Returns     1.5271      0.075     20.451      0.000       1.381       1.674\n",
      "==============================================================================\n",
      "Omnibus:                       75.917   Durbin-Watson:                   2.070\n",
      "Prob(Omnibus):                  0.000   Jarque-Bera (JB):              359.077\n",
      "Skew:                          -0.132   Prob(JB):                     1.07e-78\n",
      "Kurtosis:                       5.955   Cond. No.                         133.\n",
      "==============================================================================\n",
      "\n",
      "Notes:\n",
      "[1] Standard Errors assume that the covariance matrix of the errors is correctly specified.\n",
      "Test Set - Root Mean Squared Error: 0.017495132912431894\n",
      "Test Set - Mean Absolute Error: 0.013090536309935714\n",
      "Test Set - R^2 score: 0.426505645522382\n"
     ]
    },
    {
     "data": {
      "image/png": "[encoded data removed]",
      "text/plain": [
       "<Figure size 1400x700 with 1 Axes>"
      ]
     },
     "metadata": {},
     "output_type": "display_data"
    }
   ],
   "source": [
    "\n",
    "# Define X (independent variable) and y (dependent variable) for training\n",
    "X_train = sm.add_constant(linear_train_df['Market_Returns'])  # Adding constant to model intercept\n",
    "y_train = linear_train_df['Asset_Returns']  # Dependent variable: Asset returns\n",
    "\n",
    "# Fit the OLS model\n",
    "OLS_model = sm.OLS(y_train, X_train)\n",
    "OLS_model_fit = OLS_model.fit()\n",
    "\n",
    "# Output the beta estimate and summary\n",
    "print(OLS_model_fit.summary())\n",
    "\n",
    "# the the test set\n",
    "X_test = sm.add_constant(linear_test_df['Market_Returns'])\n",
    "y_test = linear_test_df['Asset_Returns']\n",
    "\n",
    "# Forecast asset returns using the fitted OLS model\n",
    "y_test_pred = OLS_model_fit.predict(X_test)\n",
    "\n",
    "# Metrics for Test Set\n",
    "test_rmse = np.sqrt(mean_squared_error(y_test, y_test_pred))\n",
    "test_mae = mean_absolute_error(y_test, y_test_pred)\n",
    "test_r2 = r2_score(y_test, y_test_pred)\n",
    "\n",
    "print(f\"Test Set - Root Mean Squared Error: {test_rmse}\")\n",
    "print(f\"Test Set - Mean Absolute Error: {test_mae}\")\n",
    "print(f\"Test Set - R^2 score: {test_r2}\")\n",
    "\n",
    "# Plot the predicted returns vs actual returns for the test set\n",
    "plt.figure(figsize=(14, 7))\n",
    "plt.plot(linear_test_df.index, y_test, label='Actual Returns (Test)', color='blue')\n",
    "plt.plot(linear_test_df.index, y_test_pred, label='Predicted Returns (Test)', color='red', linestyle='--')\n",
    "plt.title('Model A (LR-Model): Actual vs Predicted Excess Asset Returns (2015-2019) on Test Set')\n",
    "plt.xlabel('Date')\n",
    "plt.ylabel('Excess Daily Asset Returns')\n",
    "plt.legend()\n",
    "plt.grid(True)\n",
    "plt.show()\n"
   ]
  },
  {
   "cell_type": "code",
   "execution_count": 7,
   "metadata": {},
   "outputs": [
    {
     "data": {
      "application/vnd.plotly.v1+json": {
       "config": {
        "plotlyServerURL": "https://plot.ly"
       },
       "data": [
        {
         "line": {
          "color": "blue"
         },
         "mode": "lines",
         "name": "Actual Returns (Test)",
         "type": "scatter",
         "x": [
          "2019-01-03T00:00:00",
          "2019-01-07T00:00:00",
          "2019-01-08T00:00:00",
          "2019-01-09T00:00:00",
          "2019-01-10T00:00:00",
          "2019-01-11T00:00:00",
          "2019-01-14T00:00:00",
          "2019-01-15T00:00:00",
          "2019-01-16T00:00:00",
          "2019-01-17T00:00:00",
          "2019-01-18T00:00:00",
          "2019-01-22T00:00:00",
          "2019-01-23T00:00:00",
          "2019-01-24T00:00:00",
          "2019-01-25T00:00:00",
          "2019-01-29T00:00:00",
          "2019-01-30T00:00:00",
          "2019-01-31T00:00:00",
          "2019-02-01T00:00:00",
          "2019-02-04T00:00:00",
          "2019-02-05T00:00:00",
          "2019-02-06T00:00:00",
          "2019-02-07T00:00:00",
          "2019-02-08T00:00:00",
          "2019-02-11T00:00:00",
          "2019-02-12T00:00:00",
          "2019-02-13T00:00:00",
          "2019-02-14T00:00:00",
          "2019-02-15T00:00:00",
          "2019-02-19T00:00:00",
          "2019-02-20T00:00:00",
          "2019-02-21T00:00:00",
          "2019-02-22T00:00:00",
          "2019-02-25T00:00:00",
          "2019-02-26T00:00:00",
          "2019-02-27T00:00:00",
          "2019-02-28T00:00:00",
          "2019-03-01T00:00:00",
          "2019-03-04T00:00:00",
          "2019-03-05T00:00:00",
          "2019-03-06T00:00:00",
          "2019-03-07T00:00:00",
          "2019-03-08T00:00:00",
          "2019-03-11T00:00:00",
          "2019-03-12T00:00:00",
          "2019-03-13T00:00:00",
          "2019-03-14T00:00:00",
          "2019-03-15T00:00:00",
          "2019-03-18T00:00:00",
          "2019-03-19T00:00:00",
          "2019-03-20T00:00:00",
          "2019-03-21T00:00:00",
          "2019-03-22T00:00:00",
          "2019-03-25T00:00:00",
          "2019-03-26T00:00:00",
          "2019-03-27T00:00:00",
          "2019-03-28T00:00:00",
          "2019-03-29T00:00:00",
          "2019-04-01T00:00:00",
          "2019-04-02T00:00:00",
          "2019-04-03T00:00:00",
          "2019-04-04T00:00:00",
          "2019-04-05T00:00:00",
          "2019-04-08T00:00:00",
          "2019-04-09T00:00:00",
          "2019-04-10T00:00:00",
          "2019-04-11T00:00:00",
          "2019-04-12T00:00:00",
          "2019-04-15T00:00:00",
          "2019-04-16T00:00:00",
          "2019-04-17T00:00:00",
          "2019-04-18T00:00:00",
          "2019-04-22T00:00:00",
          "2019-04-23T00:00:00",
          "2019-04-24T00:00:00",
          "2019-04-25T00:00:00",
          "2019-04-26T00:00:00",
          "2019-04-29T00:00:00",
          "2019-04-30T00:00:00",
          "2019-05-01T00:00:00",
          "2019-05-02T00:00:00",
          "2019-05-03T00:00:00",
          "2019-05-06T00:00:00",
          "2019-05-07T00:00:00",
          "2019-05-08T00:00:00",
          "2019-05-09T00:00:00",
          "2019-05-10T00:00:00",
          "2019-05-13T00:00:00",
          "2019-05-14T00:00:00",
          "2019-05-15T00:00:00",
          "2019-05-16T00:00:00",
          "2019-05-17T00:00:00",
          "2019-05-20T00:00:00",
          "2019-05-21T00:00:00",
          "2019-05-22T00:00:00",
          "2019-05-23T00:00:00",
          "2019-05-24T00:00:00",
          "2019-05-28T00:00:00",
          "2019-05-29T00:00:00",
          "2019-05-30T00:00:00",
          "2019-05-31T00:00:00",
          "2019-06-03T00:00:00",
          "2019-06-04T00:00:00",
          "2019-06-05T00:00:00",
          "2019-06-06T00:00:00",
          "2019-06-07T00:00:00",
          "2019-06-10T00:00:00",
          "2019-06-11T00:00:00",
          "2019-06-12T00:00:00",
          "2019-06-13T00:00:00",
          "2019-06-14T00:00:00",
          "2019-06-17T00:00:00",
          "2019-06-18T00:00:00",
          "2019-06-19T00:00:00",
          "2019-06-20T00:00:00",
          "2019-06-21T00:00:00",
          "2019-06-24T00:00:00",
          "2019-06-25T00:00:00",
          "2019-06-26T00:00:00",
          "2019-06-27T00:00:00",
          "2019-06-28T00:00:00",
          "2019-07-01T00:00:00",
          "2019-07-02T00:00:00",
          "2019-07-03T00:00:00",
          "2019-07-05T00:00:00",
          "2019-07-08T00:00:00",
          "2019-07-09T00:00:00",
          "2019-07-10T00:00:00",
          "2019-07-11T00:00:00",
          "2019-07-12T00:00:00",
          "2019-07-15T00:00:00",
          "2019-07-16T00:00:00",
          "2019-07-17T00:00:00",
          "2019-07-18T00:00:00",
          "2019-07-19T00:00:00",
          "2019-07-22T00:00:00",
          "2019-07-23T00:00:00",
          "2019-07-24T00:00:00",
          "2019-07-25T00:00:00",
          "2019-07-26T00:00:00",
          "2019-07-29T00:00:00",
          "2019-07-30T00:00:00",
          "2019-07-31T00:00:00",
          "2019-08-01T00:00:00",
          "2019-08-02T00:00:00",
          "2019-08-06T00:00:00",
          "2019-08-07T00:00:00",
          "2019-08-08T00:00:00",
          "2019-08-09T00:00:00",
          "2019-08-12T00:00:00",
          "2019-08-13T00:00:00",
          "2019-08-15T00:00:00",
          "2019-08-16T00:00:00",
          "2019-08-19T00:00:00",
          "2019-08-20T00:00:00",
          "2019-08-21T00:00:00",
          "2019-08-22T00:00:00",
          "2019-08-26T00:00:00",
          "2019-08-27T00:00:00",
          "2019-08-28T00:00:00",
          "2019-08-29T00:00:00",
          "2019-08-30T00:00:00",
          "2019-09-03T00:00:00",
          "2019-09-04T00:00:00",
          "2019-09-05T00:00:00",
          "2019-09-06T00:00:00",
          "2019-09-09T00:00:00",
          "2019-09-10T00:00:00",
          "2019-09-11T00:00:00",
          "2019-09-12T00:00:00",
          "2019-09-13T00:00:00",
          "2019-09-16T00:00:00",
          "2019-09-17T00:00:00",
          "2019-09-18T00:00:00",
          "2019-09-19T00:00:00",
          "2019-09-20T00:00:00",
          "2019-09-23T00:00:00",
          "2019-09-24T00:00:00",
          "2019-09-25T00:00:00",
          "2019-09-26T00:00:00",
          "2019-09-27T00:00:00",
          "2019-09-30T00:00:00",
          "2019-10-01T00:00:00",
          "2019-10-02T00:00:00",
          "2019-10-03T00:00:00",
          "2019-10-04T00:00:00",
          "2019-10-07T00:00:00",
          "2019-10-08T00:00:00",
          "2019-10-09T00:00:00",
          "2019-10-10T00:00:00",
          "2019-10-11T00:00:00",
          "2019-10-14T00:00:00",
          "2019-10-15T00:00:00",
          "2019-10-16T00:00:00",
          "2019-10-17T00:00:00",
          "2019-10-18T00:00:00",
          "2019-10-21T00:00:00",
          "2019-10-22T00:00:00",
          "2019-10-23T00:00:00",
          "2019-10-24T00:00:00",
          "2019-10-25T00:00:00",
          "2019-10-28T00:00:00",
          "2019-10-29T00:00:00",
          "2019-10-30T00:00:00",
          "2019-10-31T00:00:00",
          "2019-11-01T00:00:00",
          "2019-11-04T00:00:00",
          "2019-11-05T00:00:00",
          "2019-11-06T00:00:00",
          "2019-11-07T00:00:00",
          "2019-11-08T00:00:00",
          "2019-11-11T00:00:00",
          "2019-11-12T00:00:00",
          "2019-11-13T00:00:00",
          "2019-11-14T00:00:00",
          "2019-11-15T00:00:00",
          "2019-11-18T00:00:00",
          "2019-11-19T00:00:00",
          "2019-11-20T00:00:00",
          "2019-11-21T00:00:00",
          "2019-11-22T00:00:00",
          "2019-11-25T00:00:00",
          "2019-11-26T00:00:00",
          "2019-11-27T00:00:00",
          "2019-11-29T00:00:00",
          "2019-12-02T00:00:00",
          "2019-12-03T00:00:00",
          "2019-12-04T00:00:00",
          "2019-12-05T00:00:00",
          "2019-12-06T00:00:00",
          "2019-12-09T00:00:00",
          "2019-12-10T00:00:00",
          "2019-12-11T00:00:00",
          "2019-12-12T00:00:00",
          "2019-12-13T00:00:00",
          "2019-12-16T00:00:00",
          "2019-12-17T00:00:00",
          "2019-12-18T00:00:00",
          "2019-12-19T00:00:00",
          "2019-12-20T00:00:00",
          "2019-12-23T00:00:00",
          "2019-12-24T00:00:00",
          "2019-12-26T00:00:00",
          "2019-12-27T00:00:00",
          "2019-12-30T00:00:00"
         ],
         "y": [
          -0.0605104724715777,
          0.0528473650153575,
          -0.0249904341787813,
          0.0195716414993138,
          0.0184917654256207,
          0.0246944931484725,
          0.0107238775268788,
          -0.0038833903209672,
          -0.006966483212144,
          0.0192562167139294,
          0.0342462272405325,
          -0.0520906296402786,
          0.0034019269893985,
          0.0571795617208618,
          0.0145428408119478,
          -0.0465397420366068,
          0.0439032681696115,
          0.0461987306987648,
          0.0067242597654273,
          0.0306545131669202,
          0.0050675803818774,
          0.0202464222588703,
          -0.03656424654406,
          0.0049939650975377,
          -0.0117027219695281,
          0.0321350559927056,
          0.0112175527590907,
          0.010698739147622,
          0.0180899715164695,
          -0.0045430221452609,
          0.0120989576637289,
          -0.0176289690291472,
          0.0218605163189758,
          -0.0032357497801637,
          -0.0101146990146384,
          -0.0108525494484978,
          -0.0064714035885375,
          0.0141023943019773,
          0.002015104579693,
          -0.0017536376760559,
          -0.0286540899336407,
          -0.0184443327480523,
          0.0091508498093633,
          0.0696081185028759,
          0.0084688860177532,
          0.0374387770886466,
          -0.018241913656171,
          0.0255759337845227,
          -0.0051592539714255,
          0.0399164312225805,
          -0.0075510575430223,
          0.0546061658246615,
          -0.0351064926211262,
          -0.021052627070599,
          0.017685831123971,
          -0.0021862612708943,
          0.0041552067175819,
          0.0129400444057136,
          0.0150558289092709,
          0.0038555734859065,
          0.0306163642346428,
          -0.002002378299643,
          0.0141946877950721,
          0.0043053589981541,
          -0.0132856406871792,
          0.0149118002208987,
          -0.0030086653908509,
          -0.0080819602949141,
          -0.028039697942738,
          0.0189093973028966,
          -0.0049823998497219,
          -0.0053801000324639,
          0.011554095353014,
          0.0115776324515678,
          0.0025281641682058,
          -0.0223777221513198,
          -0.0472819643653784,
          0.0068692412856848,
          0.0092182230881197,
          -0.0030218111146737,
          0.014977569505782,
          -0.0010766257603006,
          -0.0173603443442883,
          -0.0375699160166912,
          0.0045852309265466,
          -0.0215406517926712,
          -0.0081441238372267,
          -0.0615194794350079,
          0.0225637075967308,
          -0.0152748201122776,
          0.0037296052781276,
          -0.0229400282583962,
          -0.0306294342483923,
          0.0217197200265402,
          -0.0185366878450951,
          -0.0321543354477973,
          -0.0148208233934226,
          -0.0126297362572276,
          -0.0209521169890155,
          -0.0077248005484216,
          -0.0263290463603333,
          -0.0124928942335268,
          0.0688283314507438,
          -0.0121187843316066,
          0.0176059797598934,
          0.0118748279360727,
          0.02004920124333,
          0.0155424219419172,
          -0.0302681612760405,
          0.0140053727865024,
          -0.024500960438045,
          0.0026114584547296,
          0.0540405831292801,
          0.0014856348632222,
          0.0063177078619772,
          -0.0152664623222475,
          0.0058487378241412,
          -0.0078123291757013,
          0.0512769368282896,
          0.0248452707359394,
          0.0060454658779175,
          0.0117307453172752,
          -0.0237957948188578,
          0.0031195939505998,
          -0.0155694408813986,
          -0.0189343691329654,
          0.0005491975492945,
          0.0173967959377129,
          0.0387769968330894,
          0.0079156107663877,
          -0.0021112018276189,
          -0.0012193063115885,
          0.0156586618004888,
          0.0026897634640232,
          -0.0103045142434267,
          0.017017911831577,
          0.0252521408079578,
          0.0169971995967949,
          -0.0296350623660861,
          0.0096653857591835,
          -0.001509243135968,
          0.003523021154186,
          -0.0384391972975515,
          -0.0226033065027412,
          -0.0226961596792979,
          0.0102660908370894,
          0.0100302791501869,
          0.0283188131642653,
          -0.025857768855278,
          -0.0177831307719209,
          0.0302953840945886,
          -0.0087357266798436,
          0.0724554747428254,
          0.0702448706998411,
          -0.017114848774425,
          0.0199390176672258,
          0.0013833471794871,
          0.018453221602562,
          -0.0221382916999705,
          -0.0026751874160755,
          0.0357748370446916,
          0.0029770090918962,
          -0.0200149624808459,
          0.0278832504964104,
          0.0649866561078083,
          -0.0061400410856919,
          0.0102795096960557,
          0.0147720523746844,
          0.0062019173500619,
          -0.000400621638884,
          -0.0127196566845001,
          -0.0095860716408542,
          0.0046952674584382,
          -0.0060944130015132,
          -0.016965315106911,
          -0.0240927640462488,
          0.0123766282756445,
          -0.0132866161161228,
          0.032964398374573,
          -0.0050638138657031,
          -0.0315333632618618,
          0.0133785783431719,
          -0.0004717485700351,
          -0.0055860571639793,
          0.0477263091966518,
          0.0035746626174915,
          0.0129026134460269,
          -0.0385835163203404,
          0.0195709413936874,
          0.012773404206619,
          0.0161080929442401,
          0.0028388737027312,
          0.052688587509753,
          -0.0110636653035514,
          0.0003475044139122,
          -0.019622773611882,
          0.028913537378959,
          -0.0021052103185414,
          -0.0027222101446473,
          0.0090084594954953,
          0.0389477680465097,
          0.0109366186268286,
          -0.0187777839831973,
          0.0003308220206902,
          -0.0098131035427371,
          0.0077512595086053,
          0.0389847578737593,
          -0.0042883810065695,
          -0.0095061992232111,
          0.0033593586453577,
          -0.0027477875371131,
          0.0018651845452607,
          0.0068079759447869,
          -0.0050224476807738,
          0.0057888147984229,
          -0.026754165000495,
          0.0395596198661415,
          -0.0202695842907927,
          0.0152767214571736,
          -0.0047958771294228,
          0.003317243098835,
          0.0488738363176032,
          -0.019093735929389,
          0.0063941648451523,
          -0.0069343674139286,
          -0.0346186805170332,
          -0.0076594529212893,
          0.0084158875641353,
          -0.0033061970154918,
          0.0163730385873081,
          -0.000059444445466238355,
          0.0084709072855287,
          0.0156420453857342,
          0.0309045897049949,
          -0.0004173448205229,
          0.0051182123214764,
          0.013885502738985,
          0.0052838466018556,
          0.0258639615069926,
          0.0165452941836275,
          -0.0023581838967339,
          -0.0008985148729891,
          0.0023279629719891,
          -0.0097597414029833,
          -0.0192679894888853
         ]
        },
        {
         "line": {
          "color": "red",
          "dash": "dash"
         },
         "mode": "lines",
         "name": "Predicted Returns (Test)",
         "type": "scatter",
         "x": [
          "2019-01-03T00:00:00",
          "2019-01-07T00:00:00",
          "2019-01-08T00:00:00",
          "2019-01-09T00:00:00",
          "2019-01-10T00:00:00",
          "2019-01-11T00:00:00",
          "2019-01-14T00:00:00",
          "2019-01-15T00:00:00",
          "2019-01-16T00:00:00",
          "2019-01-17T00:00:00",
          "2019-01-18T00:00:00",
          "2019-01-22T00:00:00",
          "2019-01-23T00:00:00",
          "2019-01-24T00:00:00",
          "2019-01-25T00:00:00",
          "2019-01-29T00:00:00",
          "2019-01-30T00:00:00",
          "2019-01-31T00:00:00",
          "2019-02-01T00:00:00",
          "2019-02-04T00:00:00",
          "2019-02-05T00:00:00",
          "2019-02-06T00:00:00",
          "2019-02-07T00:00:00",
          "2019-02-08T00:00:00",
          "2019-02-11T00:00:00",
          "2019-02-12T00:00:00",
          "2019-02-13T00:00:00",
          "2019-02-14T00:00:00",
          "2019-02-15T00:00:00",
          "2019-02-19T00:00:00",
          "2019-02-20T00:00:00",
          "2019-02-21T00:00:00",
          "2019-02-22T00:00:00",
          "2019-02-25T00:00:00",
          "2019-02-26T00:00:00",
          "2019-02-27T00:00:00",
          "2019-02-28T00:00:00",
          "2019-03-01T00:00:00",
          "2019-03-04T00:00:00",
          "2019-03-05T00:00:00",
          "2019-03-06T00:00:00",
          "2019-03-07T00:00:00",
          "2019-03-08T00:00:00",
          "2019-03-11T00:00:00",
          "2019-03-12T00:00:00",
          "2019-03-13T00:00:00",
          "2019-03-14T00:00:00",
          "2019-03-15T00:00:00",
          "2019-03-18T00:00:00",
          "2019-03-19T00:00:00",
          "2019-03-20T00:00:00",
          "2019-03-21T00:00:00",
          "2019-03-22T00:00:00",
          "2019-03-25T00:00:00",
          "2019-03-26T00:00:00",
          "2019-03-27T00:00:00",
          "2019-03-28T00:00:00",
          "2019-03-29T00:00:00",
          "2019-04-01T00:00:00",
          "2019-04-02T00:00:00",
          "2019-04-03T00:00:00",
          "2019-04-04T00:00:00",
          "2019-04-05T00:00:00",
          "2019-04-08T00:00:00",
          "2019-04-09T00:00:00",
          "2019-04-10T00:00:00",
          "2019-04-11T00:00:00",
          "2019-04-12T00:00:00",
          "2019-04-15T00:00:00",
          "2019-04-16T00:00:00",
          "2019-04-17T00:00:00",
          "2019-04-18T00:00:00",
          "2019-04-22T00:00:00",
          "2019-04-23T00:00:00",
          "2019-04-24T00:00:00",
          "2019-04-25T00:00:00",
          "2019-04-26T00:00:00",
          "2019-04-29T00:00:00",
          "2019-04-30T00:00:00",
          "2019-05-01T00:00:00",
          "2019-05-02T00:00:00",
          "2019-05-03T00:00:00",
          "2019-05-06T00:00:00",
          "2019-05-07T00:00:00",
          "2019-05-08T00:00:00",
          "2019-05-09T00:00:00",
          "2019-05-10T00:00:00",
          "2019-05-13T00:00:00",
          "2019-05-14T00:00:00",
          "2019-05-15T00:00:00",
          "2019-05-16T00:00:00",
          "2019-05-17T00:00:00",
          "2019-05-20T00:00:00",
          "2019-05-21T00:00:00",
          "2019-05-22T00:00:00",
          "2019-05-23T00:00:00",
          "2019-05-24T00:00:00",
          "2019-05-28T00:00:00",
          "2019-05-29T00:00:00",
          "2019-05-30T00:00:00",
          "2019-05-31T00:00:00",
          "2019-06-03T00:00:00",
          "2019-06-04T00:00:00",
          "2019-06-05T00:00:00",
          "2019-06-06T00:00:00",
          "2019-06-07T00:00:00",
          "2019-06-10T00:00:00",
          "2019-06-11T00:00:00",
          "2019-06-12T00:00:00",
          "2019-06-13T00:00:00",
          "2019-06-14T00:00:00",
          "2019-06-17T00:00:00",
          "2019-06-18T00:00:00",
          "2019-06-19T00:00:00",
          "2019-06-20T00:00:00",
          "2019-06-21T00:00:00",
          "2019-06-24T00:00:00",
          "2019-06-25T00:00:00",
          "2019-06-26T00:00:00",
          "2019-06-27T00:00:00",
          "2019-06-28T00:00:00",
          "2019-07-01T00:00:00",
          "2019-07-02T00:00:00",
          "2019-07-03T00:00:00",
          "2019-07-05T00:00:00",
          "2019-07-08T00:00:00",
          "2019-07-09T00:00:00",
          "2019-07-10T00:00:00",
          "2019-07-11T00:00:00",
          "2019-07-12T00:00:00",
          "2019-07-15T00:00:00",
          "2019-07-16T00:00:00",
          "2019-07-17T00:00:00",
          "2019-07-18T00:00:00",
          "2019-07-19T00:00:00",
          "2019-07-22T00:00:00",
          "2019-07-23T00:00:00",
          "2019-07-24T00:00:00",
          "2019-07-25T00:00:00",
          "2019-07-26T00:00:00",
          "2019-07-29T00:00:00",
          "2019-07-30T00:00:00",
          "2019-07-31T00:00:00",
          "2019-08-01T00:00:00",
          "2019-08-02T00:00:00",
          "2019-08-06T00:00:00",
          "2019-08-07T00:00:00",
          "2019-08-08T00:00:00",
          "2019-08-09T00:00:00",
          "2019-08-12T00:00:00",
          "2019-08-13T00:00:00",
          "2019-08-15T00:00:00",
          "2019-08-16T00:00:00",
          "2019-08-19T00:00:00",
          "2019-08-20T00:00:00",
          "2019-08-21T00:00:00",
          "2019-08-22T00:00:00",
          "2019-08-26T00:00:00",
          "2019-08-27T00:00:00",
          "2019-08-28T00:00:00",
          "2019-08-29T00:00:00",
          "2019-08-30T00:00:00",
          "2019-09-03T00:00:00",
          "2019-09-04T00:00:00",
          "2019-09-05T00:00:00",
          "2019-09-06T00:00:00",
          "2019-09-09T00:00:00",
          "2019-09-10T00:00:00",
          "2019-09-11T00:00:00",
          "2019-09-12T00:00:00",
          "2019-09-13T00:00:00",
          "2019-09-16T00:00:00",
          "2019-09-17T00:00:00",
          "2019-09-18T00:00:00",
          "2019-09-19T00:00:00",
          "2019-09-20T00:00:00",
          "2019-09-23T00:00:00",
          "2019-09-24T00:00:00",
          "2019-09-25T00:00:00",
          "2019-09-26T00:00:00",
          "2019-09-27T00:00:00",
          "2019-09-30T00:00:00",
          "2019-10-01T00:00:00",
          "2019-10-02T00:00:00",
          "2019-10-03T00:00:00",
          "2019-10-04T00:00:00",
          "2019-10-07T00:00:00",
          "2019-10-08T00:00:00",
          "2019-10-09T00:00:00",
          "2019-10-10T00:00:00",
          "2019-10-11T00:00:00",
          "2019-10-14T00:00:00",
          "2019-10-15T00:00:00",
          "2019-10-16T00:00:00",
          "2019-10-17T00:00:00",
          "2019-10-18T00:00:00",
          "2019-10-21T00:00:00",
          "2019-10-22T00:00:00",
          "2019-10-23T00:00:00",
          "2019-10-24T00:00:00",
          "2019-10-25T00:00:00",
          "2019-10-28T00:00:00",
          "2019-10-29T00:00:00",
          "2019-10-30T00:00:00",
          "2019-10-31T00:00:00",
          "2019-11-01T00:00:00",
          "2019-11-04T00:00:00",
          "2019-11-05T00:00:00",
          "2019-11-06T00:00:00",
          "2019-11-07T00:00:00",
          "2019-11-08T00:00:00",
          "2019-11-11T00:00:00",
          "2019-11-12T00:00:00",
          "2019-11-13T00:00:00",
          "2019-11-14T00:00:00",
          "2019-11-15T00:00:00",
          "2019-11-18T00:00:00",
          "2019-11-19T00:00:00",
          "2019-11-20T00:00:00",
          "2019-11-21T00:00:00",
          "2019-11-22T00:00:00",
          "2019-11-25T00:00:00",
          "2019-11-26T00:00:00",
          "2019-11-27T00:00:00",
          "2019-11-29T00:00:00",
          "2019-12-02T00:00:00",
          "2019-12-03T00:00:00",
          "2019-12-04T00:00:00",
          "2019-12-05T00:00:00",
          "2019-12-06T00:00:00",
          "2019-12-09T00:00:00",
          "2019-12-10T00:00:00",
          "2019-12-11T00:00:00",
          "2019-12-12T00:00:00",
          "2019-12-13T00:00:00",
          "2019-12-16T00:00:00",
          "2019-12-17T00:00:00",
          "2019-12-18T00:00:00",
          "2019-12-19T00:00:00",
          "2019-12-20T00:00:00",
          "2019-12-23T00:00:00",
          "2019-12-24T00:00:00",
          "2019-12-26T00:00:00",
          "2019-12-27T00:00:00",
          "2019-12-30T00:00:00"
         ],
         "y": [
          -0.036475917458601646,
          0.012034801171581603,
          0.0161318998122901,
          0.007585144591050879,
          0.008227991911504525,
          0.0011049589549347873,
          -0.006699622884735644,
          0.017700317303166718,
          0.004721911032517958,
          0.012921853405343997,
          0.021461107207322822,
          -0.02028927794908964,
          0.0046933916943946545,
          0.003433129878541759,
          0.014293717329098682,
          -0.0008951178665021108,
          0.025073435573592144,
          0.01445898525595653,
          0.002702421569374564,
          0.011678255479860077,
          0.00851874310026525,
          -0.0020681977935427406,
          -0.012959707639226959,
          0.002361273108162524,
          0.0024109107139159763,
          0.02101212075964511,
          0.0059460270019257395,
          -0.0027210511555122345,
          0.017940952344082984,
          0.0036168656329657344,
          0.004041345441735369,
          -0.004058255462358257,
          0.01111715630027179,
          0.0032081088226830227,
          0.00011946650782001595,
          0.0004961718467197188,
          -0.002987163367916324,
          0.011857499009817876,
          -0.004597811155785491,
          -0.00040137906085957486,
          -0.008636492675289768,
          -0.011081666461632894,
          -0.0019282603669878097,
          0.02372379171645416,
          0.00583676613027656,
          0.011939756617684634,
          0.0000017462817276011855,
          0.008939556752737582,
          0.006986686737125347,
          0.0011268683896997903,
          -0.0031701630694623154,
          0.017898531180569912,
          -0.027648670435837637,
          0.00004591266224820434,
          0.01229475004074671,
          -0.005764315598306077,
          0.0068097452578126435,
          0.011614609113830455,
          0.01899724398500808,
          0.0013550216356231347,
          0.004608899762448851,
          0.0045117435395642174,
          0.008408510202141565,
          0.0029282103623674673,
          -0.007936803353529427,
          0.006639733519197613,
          0.0013868850657824706,
          0.011420945094077043,
          0.00036788262647712293,
          0.002105704727915134,
          -0.0021445038888119458,
          0.0037400486717945325,
          0.0028734814673783368,
          0.01482826936864057,
          -0.002018907146825249,
          0.000765221000543168,
          0.008483727724839208,
          0.0029652579874409387,
          0.0027813645324534487,
          -0.010127517708596025,
          -0.001915285324053432,
          0.01604678749960782,
          -0.005498710190411407,
          -0.0238859151758971,
          -0.0011232268091166803,
          -0.0032855534582097745,
          0.007009509674496831,
          -0.035519405886137445,
          0.013570282087935318,
          0.010246085119808178,
          0.014914006293366427,
          -0.007583211032223404,
          -0.008975358432018266,
          0.014304501738188318,
          -0.0029816474740959765,
          -0.01686128245151463,
          0.0034003102325341726,
          -0.011457493228864387,
          -0.00922222615657492,
          0.004536508387739677,
          -0.01881718993769248,
          -0.0028888884983607494,
          0.03406158145079867,
          0.01379721748107248,
          0.010704787879365317,
          0.01736844818730049,
          0.008453656527961007,
          0.0008035888112164187,
          -0.0017707321934609986,
          0.007599280800726055,
          -0.0011176749625083412,
          0.002765268048067594,
          0.01617972939224847,
          0.005901757542112473,
          0.015810723893514844,
          -0.0005754639508803415,
          -0.0012974357897699218,
          -0.01315588011224469,
          -0.0005391486036423868,
          0.007183882141837644,
          0.010140683191430178,
          0.013062967528373307,
          0.005813263449544384,
          0.013057935266861337,
          -0.0014168238238134814,
          -0.006044048394117039,
          0.003227275862867827,
          0.008231035421178085,
          0.0048345431112530885,
          0.008400650215432324,
          0.001614200072424897,
          -0.0038532534461872803,
          -0.008627284936266987,
          0.006819950520446875,
          -0.008082289913009301,
          0.005668879205604465,
          0.011805353569187665,
          0.008507480068005432,
          -0.006688889667445433,
          0.01262847022436487,
          -0.0011201587536053893,
          -0.0025894165485202906,
          -0.01527396146342685,
          -0.012392794459860442,
          -0.009770446762350874,
          0.021228950319067397,
          0.0025237975198232564,
          0.030003903680880184,
          -0.008750186112856046,
          -0.017454229346216203,
          0.024460619278135243,
          0.005123403665029267,
          0.02339117504784345,
          0.019846165339752368,
          -0.010729474644992458,
          0.013948565856555966,
          0.0005817335466042674,
          0.018126607671558836,
          -0.0035372313219895852,
          0.011349811033341584,
          0.020728770379407017,
          0.002336426244301908,
          -0.009179149760648455,
          0.01791312762404686,
          0.021222494893811793,
          0.0027467959300596033,
          0.0012128018352815734,
          0.0018482392563583428,
          0.012396268151720777,
          0.005753809983322,
          0.00025061716518847755,
          -0.0034341319833356967,
          0.005297053360135843,
          0.001881372276266604,
          0.001388379512234871,
          -0.006115998030161653,
          0.0012121518222858257,
          -0.011494306381693834,
          0.010764732656569237,
          -0.002344394344496142,
          -0.006751279488097037,
          0.009072759141520583,
          -0.017353605926291468,
          -0.025972549554084817,
          0.013544733702832866,
          0.02308185168667337,
          -0.005468054765874403,
          -0.02239072417306552,
          0.015276501567340875,
          0.01117022449985009,
          0.018078186450613848,
          -0.0007442883654047663,
          0.016576922888774537,
          -0.0016793192988596795,
          0.005592540622850106,
          -0.004611592253875095,
          0.011866930812209383,
          -0.004075476516846429,
          0.005721904671225607,
          0.004306282949848601,
          0.007592798561449205,
          0.009897801215199672,
          0.00010419007712180198,
          0.0063434439633279095,
          -0.0032349043817927973,
          0.0161369951345151,
          0.007037297024502565,
          -0.0004306474237262685,
          0.002452937305626055,
          0.0055490339318789595,
          0.005290804365703021,
          -0.0016165214588634213,
          0.003768405820022181,
          0.002465526009452273,
          0.002657609575220896,
          0.013130916677313207,
          0.0021480402698043437,
          0.0004746392555597853,
          -0.0043560721065782826,
          -0.0010377012206624055,
          0.004699753108111436,
          0.012842497570044457,
          0.004729930518399221,
          0.007751773601625882,
          -0.004746740366558444,
          -0.011801365955873994,
          -0.0087580345543229,
          0.011037719703774361,
          0.0036724943831966763,
          0.015333163083504906,
          -0.0034486339807263773,
          -0.00029491532490033806,
          0.0058208266908440906,
          0.014474214210786845,
          0.0014905292816278174,
          0.012294719579204411,
          0.0018912816086506365,
          0.0007198435745520294,
          0.0081887247832564,
          0.008930402238444176,
          0.0027025333307822263,
          0.0010803205051509467,
          0.00921002018752356,
          0.001431891954171408,
          -0.00744601285127308
         ]
        }
       ],
       "layout": {
        "hovermode": "x unified",
        "legend": {
         "x": 0,
         "y": 1
        },
        "template": {
         "data": {
          "bar": [
           {
            "error_x": {
             "color": "#2a3f5f"
            },
            "error_y": {
             "color": "#2a3f5f"
            },
            "marker": {
             "line": {
              "color": "#E5ECF6",
              "width": 0.5
             },
             "pattern": {
              "fillmode": "overlay",
              "size": 10,
              "solidity": 0.2
             }
            },
            "type": "bar"
           }
          ],
          "barpolar": [
           {
            "marker": {
             "line": {
              "color": "#E5ECF6",
              "width": 0.5
             },
             "pattern": {
              "fillmode": "overlay",
              "size": 10,
              "solidity": 0.2
             }
            },
            "type": "barpolar"
           }
          ],
          "carpet": [
           {
            "aaxis": {
             "endlinecolor": "#2a3f5f",
             "gridcolor": "white",
             "linecolor": "white",
             "minorgridcolor": "white",
             "startlinecolor": "#2a3f5f"
            },
            "baxis": {
             "endlinecolor": "#2a3f5f",
             "gridcolor": "white",
             "linecolor": "white",
             "minorgridcolor": "white",
             "startlinecolor": "#2a3f5f"
            },
            "type": "carpet"
           }
          ],
          "choropleth": [
           {
            "colorbar": {
             "outlinewidth": 0,
             "ticks": ""
            },
            "type": "choropleth"
           }
          ],
          "contour": [
           {
            "colorbar": {
             "outlinewidth": 0,
             "ticks": ""
            },
            "colorscale": [
             [
              0,
              "#0d0887"
             ],
             [
              0.1111111111111111,
              "#46039f"
             ],
             [
              0.2222222222222222,
              "#7201a8"
             ],
             [
              0.3333333333333333,
              "#9c179e"
             ],
             [
              0.4444444444444444,
              "#bd3786"
             ],
             [
              0.5555555555555556,
              "#d8576b"
             ],
             [
              0.6666666666666666,
              "#ed7953"
             ],
             [
              0.7777777777777778,
              "#fb9f3a"
             ],
             [
              0.8888888888888888,
              "#fdca26"
             ],
             [
              1,
              "#f0f921"
             ]
            ],
            "type": "contour"
           }
          ],
          "contourcarpet": [
           {
            "colorbar": {
             "outlinewidth": 0,
             "ticks": ""
            },
            "type": "contourcarpet"
           }
          ],
          "heatmap": [
           {
            "colorbar": {
             "outlinewidth": 0,
             "ticks": ""
            },
            "colorscale": [
             [
              0,
              "#0d0887"
             ],
             [
              0.1111111111111111,
              "#46039f"
             ],
             [
              0.2222222222222222,
              "#7201a8"
             ],
             [
              0.3333333333333333,
              "#9c179e"
             ],
             [
              0.4444444444444444,
              "#bd3786"
             ],
             [
              0.5555555555555556,
              "#d8576b"
             ],
             [
              0.6666666666666666,
              "#ed7953"
             ],
             [
              0.7777777777777778,
              "#fb9f3a"
             ],
             [
              0.8888888888888888,
              "#fdca26"
             ],
             [
              1,
              "#f0f921"
             ]
            ],
            "type": "heatmap"
           }
          ],
          "heatmapgl": [
           {
            "colorbar": {
             "outlinewidth": 0,
             "ticks": ""
            },
            "colorscale": [
             [
              0,
              "#0d0887"
             ],
             [
              0.1111111111111111,
              "#46039f"
             ],
             [
              0.2222222222222222,
              "#7201a8"
             ],
             [
              0.3333333333333333,
              "#9c179e"
             ],
             [
              0.4444444444444444,
              "#bd3786"
             ],
             [
              0.5555555555555556,
              "#d8576b"
             ],
             [
              0.6666666666666666,
              "#ed7953"
             ],
             [
              0.7777777777777778,
              "#fb9f3a"
             ],
             [
              0.8888888888888888,
              "#fdca26"
             ],
             [
              1,
              "#f0f921"
             ]
            ],
            "type": "heatmapgl"
           }
          ],
          "histogram": [
           {
            "marker": {
             "pattern": {
              "fillmode": "overlay",
              "size": 10,
              "solidity": 0.2
             }
            },
            "type": "histogram"
           }
          ],
          "histogram2d": [
           {
            "colorbar": {
             "outlinewidth": 0,
             "ticks": ""
            },
            "colorscale": [
             [
              0,
              "#0d0887"
             ],
             [
              0.1111111111111111,
              "#46039f"
             ],
             [
              0.2222222222222222,
              "#7201a8"
             ],
             [
              0.3333333333333333,
              "#9c179e"
             ],
             [
              0.4444444444444444,
              "#bd3786"
             ],
             [
              0.5555555555555556,
              "#d8576b"
             ],
             [
              0.6666666666666666,
              "#ed7953"
             ],
             [
              0.7777777777777778,
              "#fb9f3a"
             ],
             [
              0.8888888888888888,
              "#fdca26"
             ],
             [
              1,
              "#f0f921"
             ]
            ],
            "type": "histogram2d"
           }
          ],
          "histogram2dcontour": [
           {
            "colorbar": {
             "outlinewidth": 0,
             "ticks": ""
            },
            "colorscale": [
             [
              0,
              "#0d0887"
             ],
             [
              0.1111111111111111,
              "#46039f"
             ],
             [
              0.2222222222222222,
              "#7201a8"
             ],
             [
              0.3333333333333333,
              "#9c179e"
             ],
             [
              0.4444444444444444,
              "#bd3786"
             ],
             [
              0.5555555555555556,
              "#d8576b"
             ],
             [
              0.6666666666666666,
              "#ed7953"
             ],
             [
              0.7777777777777778,
              "#fb9f3a"
             ],
             [
              0.8888888888888888,
              "#fdca26"
             ],
             [
              1,
              "#f0f921"
             ]
            ],
            "type": "histogram2dcontour"
           }
          ],
          "mesh3d": [
           {
            "colorbar": {
             "outlinewidth": 0,
             "ticks": ""
            },
            "type": "mesh3d"
           }
          ],
          "parcoords": [
           {
            "line": {
             "colorbar": {
              "outlinewidth": 0,
              "ticks": ""
             }
            },
            "type": "parcoords"
           }
          ],
          "pie": [
           {
            "automargin": true,
            "type": "pie"
           }
          ],
          "scatter": [
           {
            "fillpattern": {
             "fillmode": "overlay",
             "size": 10,
             "solidity": 0.2
            },
            "type": "scatter"
           }
          ],
          "scatter3d": [
           {
            "line": {
             "colorbar": {
              "outlinewidth": 0,
              "ticks": ""
             }
            },
            "marker": {
             "colorbar": {
              "outlinewidth": 0,
              "ticks": ""
             }
            },
            "type": "scatter3d"
           }
          ],
          "scattercarpet": [
           {
            "marker": {
             "colorbar": {
              "outlinewidth": 0,
              "ticks": ""
             }
            },
            "type": "scattercarpet"
           }
          ],
          "scattergeo": [
           {
            "marker": {
             "colorbar": {
              "outlinewidth": 0,
              "ticks": ""
             }
            },
            "type": "scattergeo"
           }
          ],
          "scattergl": [
           {
            "marker": {
             "colorbar": {
              "outlinewidth": 0,
              "ticks": ""
             }
            },
            "type": "scattergl"
           }
          ],
          "scattermapbox": [
           {
            "marker": {
             "colorbar": {
              "outlinewidth": 0,
              "ticks": ""
             }
            },
            "type": "scattermapbox"
           }
          ],
          "scatterpolar": [
           {
            "marker": {
             "colorbar": {
              "outlinewidth": 0,
              "ticks": ""
             }
            },
            "type": "scatterpolar"
           }
          ],
          "scatterpolargl": [
           {
            "marker": {
             "colorbar": {
              "outlinewidth": 0,
              "ticks": ""
             }
            },
            "type": "scatterpolargl"
           }
          ],
          "scatterternary": [
           {
            "marker": {
             "colorbar": {
              "outlinewidth": 0,
              "ticks": ""
             }
            },
            "type": "scatterternary"
           }
          ],
          "surface": [
           {
            "colorbar": {
             "outlinewidth": 0,
             "ticks": ""
            },
            "colorscale": [
             [
              0,
              "#0d0887"
             ],
             [
              0.1111111111111111,
              "#46039f"
             ],
             [
              0.2222222222222222,
              "#7201a8"
             ],
             [
              0.3333333333333333,
              "#9c179e"
             ],
             [
              0.4444444444444444,
              "#bd3786"
             ],
             [
              0.5555555555555556,
              "#d8576b"
             ],
             [
              0.6666666666666666,
              "#ed7953"
             ],
             [
              0.7777777777777778,
              "#fb9f3a"
             ],
             [
              0.8888888888888888,
              "#fdca26"
             ],
             [
              1,
              "#f0f921"
             ]
            ],
            "type": "surface"
           }
          ],
          "table": [
           {
            "cells": {
             "fill": {
              "color": "#EBF0F8"
             },
             "line": {
              "color": "white"
             }
            },
            "header": {
             "fill": {
              "color": "#C8D4E3"
             },
             "line": {
              "color": "white"
             }
            },
            "type": "table"
           }
          ]
         },
         "layout": {
          "annotationdefaults": {
           "arrowcolor": "#2a3f5f",
           "arrowhead": 0,
           "arrowwidth": 1
          },
          "autotypenumbers": "strict",
          "coloraxis": {
           "colorbar": {
            "outlinewidth": 0,
            "ticks": ""
           }
          },
          "colorscale": {
           "diverging": [
            [
             0,
             "#8e0152"
            ],
            [
             0.1,
             "#c51b7d"
            ],
            [
             0.2,
             "#de77ae"
            ],
            [
             0.3,
             "#f1b6da"
            ],
            [
             0.4,
             "#fde0ef"
            ],
            [
             0.5,
             "#f7f7f7"
            ],
            [
             0.6,
             "#e6f5d0"
            ],
            [
             0.7,
             "#b8e186"
            ],
            [
             0.8,
             "#7fbc41"
            ],
            [
             0.9,
             "#4d9221"
            ],
            [
             1,
             "#276419"
            ]
           ],
           "sequential": [
            [
             0,
             "#0d0887"
            ],
            [
             0.1111111111111111,
             "#46039f"
            ],
            [
             0.2222222222222222,
             "#7201a8"
            ],
            [
             0.3333333333333333,
             "#9c179e"
            ],
            [
             0.4444444444444444,
             "#bd3786"
            ],
            [
             0.5555555555555556,
             "#d8576b"
            ],
            [
             0.6666666666666666,
             "#ed7953"
            ],
            [
             0.7777777777777778,
             "#fb9f3a"
            ],
            [
             0.8888888888888888,
             "#fdca26"
            ],
            [
             1,
             "#f0f921"
            ]
           ],
           "sequentialminus": [
            [
             0,
             "#0d0887"
            ],
            [
             0.1111111111111111,
             "#46039f"
            ],
            [
             0.2222222222222222,
             "#7201a8"
            ],
            [
             0.3333333333333333,
             "#9c179e"
            ],
            [
             0.4444444444444444,
             "#bd3786"
            ],
            [
             0.5555555555555556,
             "#d8576b"
            ],
            [
             0.6666666666666666,
             "#ed7953"
            ],
            [
             0.7777777777777778,
             "#fb9f3a"
            ],
            [
             0.8888888888888888,
             "#fdca26"
            ],
            [
             1,
             "#f0f921"
            ]
           ]
          },
          "colorway": [
           "#636efa",
           "#EF553B",
           "#00cc96",
           "#ab63fa",
           "#FFA15A",
           "#19d3f3",
           "#FF6692",
           "#B6E880",
           "#FF97FF",
           "#FECB52"
          ],
          "font": {
           "color": "#2a3f5f"
          },
          "geo": {
           "bgcolor": "white",
           "lakecolor": "white",
           "landcolor": "#E5ECF6",
           "showlakes": true,
           "showland": true,
           "subunitcolor": "white"
          },
          "hoverlabel": {
           "align": "left"
          },
          "hovermode": "closest",
          "mapbox": {
           "style": "light"
          },
          "paper_bgcolor": "white",
          "plot_bgcolor": "#E5ECF6",
          "polar": {
           "angularaxis": {
            "gridcolor": "white",
            "linecolor": "white",
            "ticks": ""
           },
           "bgcolor": "#E5ECF6",
           "radialaxis": {
            "gridcolor": "white",
            "linecolor": "white",
            "ticks": ""
           }
          },
          "scene": {
           "xaxis": {
            "backgroundcolor": "#E5ECF6",
            "gridcolor": "white",
            "gridwidth": 2,
            "linecolor": "white",
            "showbackground": true,
            "ticks": "",
            "zerolinecolor": "white"
           },
           "yaxis": {
            "backgroundcolor": "#E5ECF6",
            "gridcolor": "white",
            "gridwidth": 2,
            "linecolor": "white",
            "showbackground": true,
            "ticks": "",
            "zerolinecolor": "white"
           },
           "zaxis": {
            "backgroundcolor": "#E5ECF6",
            "gridcolor": "white",
            "gridwidth": 2,
            "linecolor": "white",
            "showbackground": true,
            "ticks": "",
            "zerolinecolor": "white"
           }
          },
          "shapedefaults": {
           "line": {
            "color": "#2a3f5f"
           }
          },
          "ternary": {
           "aaxis": {
            "gridcolor": "white",
            "linecolor": "white",
            "ticks": ""
           },
           "baxis": {
            "gridcolor": "white",
            "linecolor": "white",
            "ticks": ""
           },
           "bgcolor": "#E5ECF6",
           "caxis": {
            "gridcolor": "white",
            "linecolor": "white",
            "ticks": ""
           }
          },
          "title": {
           "x": 0.05
          },
          "xaxis": {
           "automargin": true,
           "gridcolor": "white",
           "linecolor": "white",
           "ticks": "",
           "title": {
            "standoff": 15
           },
           "zerolinecolor": "white",
           "zerolinewidth": 2
          },
          "yaxis": {
           "automargin": true,
           "gridcolor": "white",
           "linecolor": "white",
           "ticks": "",
           "title": {
            "standoff": 15
           },
           "zerolinecolor": "white",
           "zerolinewidth": 2
          }
         }
        },
        "title": {
         "text": "Test Set: Actual vs Predicted Returns"
        },
        "xaxis": {
         "title": {
          "text": "Date"
         }
        },
        "yaxis": {
         "title": {
          "text": "Log Returns (Differenced)"
         }
        }
       }
      }
     },
     "metadata": {},
     "output_type": "display_data"
    }
   ],
   "source": [
    "\n",
    "# Create Traces\n",
    "fig = go.Figure()\n",
    "\n",
    "# Actual Returns (Test)\n",
    "fig.add_trace(go.Scatter(x=linear_test_df.index, \n",
    "                         y=y_test, \n",
    "                         mode='lines', \n",
    "                         name='Actual Returns (Test)',\n",
    "                         line=dict(color='blue')))\n",
    "\n",
    "# Predicted Returns (Test)\n",
    "fig.add_trace(go.Scatter(x=linear_test_df.index, \n",
    "                         y=y_test_pred, \n",
    "                         mode='lines', \n",
    "                         name='Predicted Returns (Test)',\n",
    "                         line=dict(color='red', dash='dash')))\n",
    "\n",
    "# Update layout\n",
    "fig.update_layout(title='Test Set: Actual vs Predicted Returns',\n",
    "                  xaxis_title='Date',\n",
    "                  yaxis_title='Log Returns (Differenced)',\n",
    "                  legend=dict(x=0, y=1.0),\n",
    "                  hovermode='x unified')\n",
    "\n",
    "# Show the figure\n",
    "fig.show()\n"
   ]
  }
 ],
 "metadata": {
  "kernelspec": {
   "display_name": "base",
   "language": "python",
   "name": "python3"
  },
  "language_info": {
   "codemirror_mode": {
    "name": "ipython",
    "version": 3
   },
   "file_extension": ".py",
   "mimetype": "text/x-python",
   "name": "python",
   "nbconvert_exporter": "python",
   "pygments_lexer": "ipython3",
   "version": "3.11.4"
  }
 },
 "nbformat": 4,
 "nbformat_minor": 2
}
