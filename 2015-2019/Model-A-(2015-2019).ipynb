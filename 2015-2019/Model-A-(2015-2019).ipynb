{
 "cells": [
  {
   "cell_type": "markdown",
   "metadata": {},
   "source": [
    "## Model - 1 : Linear Regressino Model for Beta estimation in context to Capital Asset Pricing Model (CAPM)\n",
    "---"
   ]
  },
  {
   "cell_type": "code",
   "execution_count": 1,
   "metadata": {},
   "outputs": [],
   "source": [
    "#importing all required libraries\n",
    "import yfinance as yf\n",
    "import pandas as pd\n",
    "import matplotlib.pyplot as plt\n",
    "import numpy as np\n",
    "import seaborn as sns\n",
    "from scipy import stats\n",
    "import plotly.express as px\n",
    "import plotly.figure_factory as ff\n",
    "import plotly.graph_objects as go\n",
    "from sklearn.model_selection import train_test_split\n",
    "from pykalman import KalmanFilter\n",
    "from sklearn.metrics import mean_squared_error, mean_absolute_error, r2_score\n",
    "import statsmodels.api as sm\n",
    "# Plotly.express module can plot interactive plots easily and effectively."
   ]
  },
  {
   "cell_type": "code",
   "execution_count": 2,
   "metadata": {},
   "outputs": [
    {
     "name": "stdout",
     "output_type": "stream",
     "text": [
      "            Market_Returns  Asset_Returns\n",
      "Date                                     \n",
      "2015-01-02        0.000000       0.000000\n",
      "2015-01-05       -0.018278      -0.016890\n",
      "2015-01-06       -0.008894      -0.030319\n",
      "2015-01-07        0.011629      -0.002606\n",
      "2015-01-08        0.017888       0.037617\n"
     ]
    }
   ],
   "source": [
    "\n",
    "# Load CSV file and parse the 'Date' column as dates\n",
    "transformed_df = pd.read_csv(\"transformed_returns_(2015-2019).csv\", parse_dates=['Date'], index_col='Date')\n",
    "\n",
    "# Display the first few rows to check if the file was loaded correctly\n",
    "print(transformed_df.head())\n",
    "\n",
    "# data split into train and test\n",
    "linear_train_df, linear_test_df = train_test_split(transformed_df, test_size=0.2, shuffle=False) #shuffle would be false as we are dealing with time series data\n"
   ]
  },
  {
   "cell_type": "code",
   "execution_count": 3,
   "metadata": {},
   "outputs": [
    {
     "data": {
      "text/html": [
       "<div>\n",
       "<style scoped>\n",
       "    .dataframe tbody tr th:only-of-type {\n",
       "        vertical-align: middle;\n",
       "    }\n",
       "\n",
       "    .dataframe tbody tr th {\n",
       "        vertical-align: top;\n",
       "    }\n",
       "\n",
       "    .dataframe thead th {\n",
       "        text-align: right;\n",
       "    }\n",
       "</style>\n",
       "<table border=\"1\" class=\"dataframe\">\n",
       "  <thead>\n",
       "    <tr style=\"text-align: right;\">\n",
       "      <th></th>\n",
       "      <th>Market_Returns</th>\n",
       "      <th>Asset_Returns</th>\n",
       "    </tr>\n",
       "    <tr>\n",
       "      <th>Date</th>\n",
       "      <th></th>\n",
       "      <th></th>\n",
       "    </tr>\n",
       "  </thead>\n",
       "  <tbody>\n",
       "    <tr>\n",
       "      <th>2018-12-14</th>\n",
       "      <td>-0.019181</td>\n",
       "      <td>-0.016482</td>\n",
       "    </tr>\n",
       "    <tr>\n",
       "      <th>2018-12-17</th>\n",
       "      <td>-0.020866</td>\n",
       "      <td>-0.019690</td>\n",
       "    </tr>\n",
       "    <tr>\n",
       "      <th>2018-12-18</th>\n",
       "      <td>-0.000006</td>\n",
       "      <td>0.023309</td>\n",
       "    </tr>\n",
       "    <tr>\n",
       "      <th>2018-12-19</th>\n",
       "      <td>-0.015488</td>\n",
       "      <td>-0.057463</td>\n",
       "    </tr>\n",
       "    <tr>\n",
       "      <th>2018-12-20</th>\n",
       "      <td>-0.015865</td>\n",
       "      <td>-0.024712</td>\n",
       "    </tr>\n",
       "    <tr>\n",
       "      <th>2018-12-21</th>\n",
       "      <td>-0.020681</td>\n",
       "      <td>-0.041025</td>\n",
       "    </tr>\n",
       "    <tr>\n",
       "      <th>2018-12-27</th>\n",
       "      <td>0.008470</td>\n",
       "      <td>-0.014594</td>\n",
       "    </tr>\n",
       "    <tr>\n",
       "      <th>2018-12-28</th>\n",
       "      <td>-0.001334</td>\n",
       "      <td>0.018814</td>\n",
       "    </tr>\n",
       "    <tr>\n",
       "      <th>2018-12-31</th>\n",
       "      <td>0.008401</td>\n",
       "      <td>-0.001213</td>\n",
       "    </tr>\n",
       "    <tr>\n",
       "      <th>2019-01-02</th>\n",
       "      <td>0.001175</td>\n",
       "      <td>0.020280</td>\n",
       "    </tr>\n",
       "  </tbody>\n",
       "</table>\n",
       "</div>"
      ],
      "text/plain": [
       "            Market_Returns  Asset_Returns\n",
       "Date                                     \n",
       "2018-12-14       -0.019181      -0.016482\n",
       "2018-12-17       -0.020866      -0.019690\n",
       "2018-12-18       -0.000006       0.023309\n",
       "2018-12-19       -0.015488      -0.057463\n",
       "2018-12-20       -0.015865      -0.024712\n",
       "2018-12-21       -0.020681      -0.041025\n",
       "2018-12-27        0.008470      -0.014594\n",
       "2018-12-28       -0.001334       0.018814\n",
       "2018-12-31        0.008401      -0.001213\n",
       "2019-01-02        0.001175       0.020280"
      ]
     },
     "execution_count": 3,
     "metadata": {},
     "output_type": "execute_result"
    }
   ],
   "source": [
    "linear_train_df.tail(10)"
   ]
  },
  {
   "cell_type": "code",
   "execution_count": 4,
   "metadata": {},
   "outputs": [
    {
     "data": {
      "text/html": [
       "<div>\n",
       "<style scoped>\n",
       "    .dataframe tbody tr th:only-of-type {\n",
       "        vertical-align: middle;\n",
       "    }\n",
       "\n",
       "    .dataframe tbody tr th {\n",
       "        vertical-align: top;\n",
       "    }\n",
       "\n",
       "    .dataframe thead th {\n",
       "        text-align: right;\n",
       "    }\n",
       "</style>\n",
       "<table border=\"1\" class=\"dataframe\">\n",
       "  <thead>\n",
       "    <tr style=\"text-align: right;\">\n",
       "      <th></th>\n",
       "      <th>Market_Returns</th>\n",
       "      <th>Asset_Returns</th>\n",
       "    </tr>\n",
       "    <tr>\n",
       "      <th>Date</th>\n",
       "      <th></th>\n",
       "      <th></th>\n",
       "    </tr>\n",
       "  </thead>\n",
       "  <tbody>\n",
       "    <tr>\n",
       "      <th>2019-01-03</th>\n",
       "      <td>-0.024850</td>\n",
       "      <td>-0.060510</td>\n",
       "    </tr>\n",
       "    <tr>\n",
       "      <th>2019-01-07</th>\n",
       "      <td>0.006917</td>\n",
       "      <td>0.052847</td>\n",
       "    </tr>\n",
       "    <tr>\n",
       "      <th>2019-01-08</th>\n",
       "      <td>0.009600</td>\n",
       "      <td>-0.024991</td>\n",
       "    </tr>\n",
       "    <tr>\n",
       "      <th>2019-01-09</th>\n",
       "      <td>0.004003</td>\n",
       "      <td>0.019572</td>\n",
       "    </tr>\n",
       "    <tr>\n",
       "      <th>2019-01-10</th>\n",
       "      <td>0.004424</td>\n",
       "      <td>0.018492</td>\n",
       "    </tr>\n",
       "    <tr>\n",
       "      <th>2019-01-11</th>\n",
       "      <td>-0.000240</td>\n",
       "      <td>0.024694</td>\n",
       "    </tr>\n",
       "    <tr>\n",
       "      <th>2019-01-14</th>\n",
       "      <td>-0.005351</td>\n",
       "      <td>0.010724</td>\n",
       "    </tr>\n",
       "    <tr>\n",
       "      <th>2019-01-15</th>\n",
       "      <td>0.010627</td>\n",
       "      <td>-0.003883</td>\n",
       "    </tr>\n",
       "    <tr>\n",
       "      <th>2019-01-16</th>\n",
       "      <td>0.002128</td>\n",
       "      <td>-0.006967</td>\n",
       "    </tr>\n",
       "    <tr>\n",
       "      <th>2019-01-17</th>\n",
       "      <td>0.007498</td>\n",
       "      <td>0.019256</td>\n",
       "    </tr>\n",
       "  </tbody>\n",
       "</table>\n",
       "</div>"
      ],
      "text/plain": [
       "            Market_Returns  Asset_Returns\n",
       "Date                                     \n",
       "2019-01-03       -0.024850      -0.060510\n",
       "2019-01-07        0.006917       0.052847\n",
       "2019-01-08        0.009600      -0.024991\n",
       "2019-01-09        0.004003       0.019572\n",
       "2019-01-10        0.004424       0.018492\n",
       "2019-01-11       -0.000240       0.024694\n",
       "2019-01-14       -0.005351       0.010724\n",
       "2019-01-15        0.010627      -0.003883\n",
       "2019-01-16        0.002128      -0.006967\n",
       "2019-01-17        0.007498       0.019256"
      ]
     },
     "execution_count": 4,
     "metadata": {},
     "output_type": "execute_result"
    }
   ],
   "source": [
    "linear_test_df.head(10)"
   ]
  },
  {
   "cell_type": "code",
   "execution_count": 5,
   "metadata": {},
   "outputs": [
    {
     "name": "stdout",
     "output_type": "stream",
     "text": [
      "                            OLS Regression Results                            \n",
      "==============================================================================\n",
      "Dep. Variable:          Asset_Returns   R-squared:                       0.300\n",
      "Model:                            OLS   Adj. R-squared:                  0.299\n",
      "Method:                 Least Squares   F-statistic:                     418.3\n",
      "Date:                Mon, 09 Sep 2024   Prob (F-statistic):           1.17e-77\n",
      "Time:                        08:51:30   Log-Likelihood:                 2570.4\n",
      "No. Observations:                 979   AIC:                            -5137.\n",
      "Df Residuals:                     977   BIC:                            -5127.\n",
      "Df Model:                           1                                         \n",
      "Covariance Type:            nonrobust                                         \n",
      "==================================================================================\n",
      "                     coef    std err          t      P>|t|      [0.025      0.975]\n",
      "----------------------------------------------------------------------------------\n",
      "const              0.0015      0.001      2.619      0.009       0.000       0.003\n",
      "Market_Returns     1.5271      0.075     20.451      0.000       1.381       1.674\n",
      "==============================================================================\n",
      "Omnibus:                       75.917   Durbin-Watson:                   2.070\n",
      "Prob(Omnibus):                  0.000   Jarque-Bera (JB):              359.073\n",
      "Skew:                          -0.132   Prob(JB):                     1.07e-78\n",
      "Kurtosis:                       5.955   Cond. No.                         133.\n",
      "==============================================================================\n",
      "\n",
      "Notes:\n",
      "[1] Standard Errors assume that the covariance matrix of the errors is correctly specified.\n",
      "Test Set - Root Mean Squared Error: 0.017495140271215622\n",
      "Test Set - Mean Absolute Error: 0.013090528124749385\n",
      "Test Set - R^2 score: 0.426505173812487\n"
     ]
    },
    {
     "data": {
      "image/png": "[encoded data removed]",
      "text/plain": [
       "<Figure size 1400x700 with 1 Axes>"
      ]
     },
     "metadata": {},
     "output_type": "display_data"
    }
   ],
   "source": [
    "\n",
    "# Define X (independent variable) and y (dependent variable) for training\n",
    "X_train = sm.add_constant(linear_train_df['Market_Returns'])  # Adding constant to model intercept\n",
    "y_train = linear_train_df['Asset_Returns']  # Dependent variable: Asset returns\n",
    "\n",
    "# Fit the OLS model\n",
    "OLS_model = sm.OLS(y_train, X_train)\n",
    "OLS_model_fit = OLS_model.fit()\n",
    "\n",
    "# Output the beta estimate and summary\n",
    "print(OLS_model_fit.summary())\n",
    "\n",
    "# the the test set\n",
    "X_test = sm.add_constant(linear_test_df['Market_Returns'])\n",
    "y_test = linear_test_df['Asset_Returns']\n",
    "\n",
    "# Forecast asset returns using the fitted OLS model\n",
    "y_test_pred = OLS_model_fit.predict(X_test)\n",
    "\n",
    "# Metrics for Test Set\n",
    "test_rmse = np.sqrt(mean_squared_error(y_test, y_test_pred))\n",
    "test_mae = mean_absolute_error(y_test, y_test_pred)\n",
    "test_r2 = r2_score(y_test, y_test_pred)\n",
    "\n",
    "print(f\"Test Set - Root Mean Squared Error: {test_rmse}\")\n",
    "print(f\"Test Set - Mean Absolute Error: {test_mae}\")\n",
    "print(f\"Test Set - R^2 score: {test_r2}\")\n",
    "\n",
    "# Plot the predicted returns vs actual returns for the test set\n",
    "plt.figure(figsize=(14, 7))\n",
    "plt.plot(linear_test_df.index, y_test, label='Actual Returns (Test)', color='blue')\n",
    "plt.plot(linear_test_df.index, y_test_pred, label='Predicted Returns (Test)', color='red', linestyle='--')\n",
    "plt.title('Model A (LR-Model): Actual vs Predicted Excess Asset Returns (2015-2019) on Test Set')\n",
    "plt.xlabel('Date')\n",
    "plt.ylabel('Excess Daily Asset Returns')\n",
    "plt.legend()\n",
    "plt.grid(True)\n",
    "plt.show()\n"
   ]
  },
  {
   "cell_type": "code",
   "execution_count": 6,
   "metadata": {},
   "outputs": [
    {
     "data": {
      "application/vnd.plotly.v1+json": {
       "config": {
        "plotlyServerURL": "https://plot.ly"
       },
       "data": [
        {
         "line": {
          "color": "blue"
         },
         "mode": "lines",
         "name": "Actual Returns (Test)",
         "type": "scatter",
         "x": [
          "2019-01-03T00:00:00",
          "2019-01-07T00:00:00",
          "2019-01-08T00:00:00",
          "2019-01-09T00:00:00",
          "2019-01-10T00:00:00",
          "2019-01-11T00:00:00",
          "2019-01-14T00:00:00",
          "2019-01-15T00:00:00",
          "2019-01-16T00:00:00",
          "2019-01-17T00:00:00",
          "2019-01-18T00:00:00",
          "2019-01-22T00:00:00",
          "2019-01-23T00:00:00",
          "2019-01-24T00:00:00",
          "2019-01-25T00:00:00",
          "2019-01-29T00:00:00",
          "2019-01-30T00:00:00",
          "2019-01-31T00:00:00",
          "2019-02-01T00:00:00",
          "2019-02-04T00:00:00",
          "2019-02-05T00:00:00",
          "2019-02-06T00:00:00",
          "2019-02-07T00:00:00",
          "2019-02-08T00:00:00",
          "2019-02-11T00:00:00",
          "2019-02-12T00:00:00",
          "2019-02-13T00:00:00",
          "2019-02-14T00:00:00",
          "2019-02-15T00:00:00",
          "2019-02-19T00:00:00",
          "2019-02-20T00:00:00",
          "2019-02-21T00:00:00",
          "2019-02-22T00:00:00",
          "2019-02-25T00:00:00",
          "2019-02-26T00:00:00",
          "2019-02-27T00:00:00",
          "2019-02-28T00:00:00",
          "2019-03-01T00:00:00",
          "2019-03-04T00:00:00",
          "2019-03-05T00:00:00",
          "2019-03-06T00:00:00",
          "2019-03-07T00:00:00",
          "2019-03-08T00:00:00",
          "2019-03-11T00:00:00",
          "2019-03-12T00:00:00",
          "2019-03-13T00:00:00",
          "2019-03-14T00:00:00",
          "2019-03-15T00:00:00",
          "2019-03-18T00:00:00",
          "2019-03-19T00:00:00",
          "2019-03-20T00:00:00",
          "2019-03-21T00:00:00",
          "2019-03-22T00:00:00",
          "2019-03-25T00:00:00",
          "2019-03-26T00:00:00",
          "2019-03-27T00:00:00",
          "2019-03-28T00:00:00",
          "2019-03-29T00:00:00",
          "2019-04-01T00:00:00",
          "2019-04-02T00:00:00",
          "2019-04-03T00:00:00",
          "2019-04-04T00:00:00",
          "2019-04-05T00:00:00",
          "2019-04-08T00:00:00",
          "2019-04-09T00:00:00",
          "2019-04-10T00:00:00",
          "2019-04-11T00:00:00",
          "2019-04-12T00:00:00",
          "2019-04-15T00:00:00",
          "2019-04-16T00:00:00",
          "2019-04-17T00:00:00",
          "2019-04-18T00:00:00",
          "2019-04-22T00:00:00",
          "2019-04-23T00:00:00",
          "2019-04-24T00:00:00",
          "2019-04-25T00:00:00",
          "2019-04-26T00:00:00",
          "2019-04-29T00:00:00",
          "2019-04-30T00:00:00",
          "2019-05-01T00:00:00",
          "2019-05-02T00:00:00",
          "2019-05-03T00:00:00",
          "2019-05-06T00:00:00",
          "2019-05-07T00:00:00",
          "2019-05-08T00:00:00",
          "2019-05-09T00:00:00",
          "2019-05-10T00:00:00",
          "2019-05-13T00:00:00",
          "2019-05-14T00:00:00",
          "2019-05-15T00:00:00",
          "2019-05-16T00:00:00",
          "2019-05-17T00:00:00",
          "2019-05-20T00:00:00",
          "2019-05-21T00:00:00",
          "2019-05-22T00:00:00",
          "2019-05-23T00:00:00",
          "2019-05-24T00:00:00",
          "2019-05-28T00:00:00",
          "2019-05-29T00:00:00",
          "2019-05-30T00:00:00",
          "2019-05-31T00:00:00",
          "2019-06-03T00:00:00",
          "2019-06-04T00:00:00",
          "2019-06-05T00:00:00",
          "2019-06-06T00:00:00",
          "2019-06-07T00:00:00",
          "2019-06-10T00:00:00",
          "2019-06-11T00:00:00",
          "2019-06-12T00:00:00",
          "2019-06-13T00:00:00",
          "2019-06-14T00:00:00",
          "2019-06-17T00:00:00",
          "2019-06-18T00:00:00",
          "2019-06-19T00:00:00",
          "2019-06-20T00:00:00",
          "2019-06-21T00:00:00",
          "2019-06-24T00:00:00",
          "2019-06-25T00:00:00",
          "2019-06-26T00:00:00",
          "2019-06-27T00:00:00",
          "2019-06-28T00:00:00",
          "2019-07-01T00:00:00",
          "2019-07-02T00:00:00",
          "2019-07-03T00:00:00",
          "2019-07-05T00:00:00",
          "2019-07-08T00:00:00",
          "2019-07-09T00:00:00",
          "2019-07-10T00:00:00",
          "2019-07-11T00:00:00",
          "2019-07-12T00:00:00",
          "2019-07-15T00:00:00",
          "2019-07-16T00:00:00",
          "2019-07-17T00:00:00",
          "2019-07-18T00:00:00",
          "2019-07-19T00:00:00",
          "2019-07-22T00:00:00",
          "2019-07-23T00:00:00",
          "2019-07-24T00:00:00",
          "2019-07-25T00:00:00",
          "2019-07-26T00:00:00",
          "2019-07-29T00:00:00",
          "2019-07-30T00:00:00",
          "2019-07-31T00:00:00",
          "2019-08-01T00:00:00",
          "2019-08-02T00:00:00",
          "2019-08-06T00:00:00",
          "2019-08-07T00:00:00",
          "2019-08-08T00:00:00",
          "2019-08-09T00:00:00",
          "2019-08-12T00:00:00",
          "2019-08-13T00:00:00",
          "2019-08-15T00:00:00",
          "2019-08-16T00:00:00",
          "2019-08-19T00:00:00",
          "2019-08-20T00:00:00",
          "2019-08-21T00:00:00",
          "2019-08-22T00:00:00",
          "2019-08-26T00:00:00",
          "2019-08-27T00:00:00",
          "2019-08-28T00:00:00",
          "2019-08-29T00:00:00",
          "2019-08-30T00:00:00",
          "2019-09-03T00:00:00",
          "2019-09-04T00:00:00",
          "2019-09-05T00:00:00",
          "2019-09-06T00:00:00",
          "2019-09-09T00:00:00",
          "2019-09-10T00:00:00",
          "2019-09-11T00:00:00",
          "2019-09-12T00:00:00",
          "2019-09-13T00:00:00",
          "2019-09-16T00:00:00",
          "2019-09-17T00:00:00",
          "2019-09-18T00:00:00",
          "2019-09-19T00:00:00",
          "2019-09-20T00:00:00",
          "2019-09-23T00:00:00",
          "2019-09-24T00:00:00",
          "2019-09-25T00:00:00",
          "2019-09-26T00:00:00",
          "2019-09-27T00:00:00",
          "2019-09-30T00:00:00",
          "2019-10-01T00:00:00",
          "2019-10-02T00:00:00",
          "2019-10-03T00:00:00",
          "2019-10-04T00:00:00",
          "2019-10-07T00:00:00",
          "2019-10-08T00:00:00",
          "2019-10-09T00:00:00",
          "2019-10-10T00:00:00",
          "2019-10-11T00:00:00",
          "2019-10-14T00:00:00",
          "2019-10-15T00:00:00",
          "2019-10-16T00:00:00",
          "2019-10-17T00:00:00",
          "2019-10-18T00:00:00",
          "2019-10-21T00:00:00",
          "2019-10-22T00:00:00",
          "2019-10-23T00:00:00",
          "2019-10-24T00:00:00",
          "2019-10-25T00:00:00",
          "2019-10-28T00:00:00",
          "2019-10-29T00:00:00",
          "2019-10-30T00:00:00",
          "2019-10-31T00:00:00",
          "2019-11-01T00:00:00",
          "2019-11-04T00:00:00",
          "2019-11-05T00:00:00",
          "2019-11-06T00:00:00",
          "2019-11-07T00:00:00",
          "2019-11-08T00:00:00",
          "2019-11-11T00:00:00",
          "2019-11-12T00:00:00",
          "2019-11-13T00:00:00",
          "2019-11-14T00:00:00",
          "2019-11-15T00:00:00",
          "2019-11-18T00:00:00",
          "2019-11-19T00:00:00",
          "2019-11-20T00:00:00",
          "2019-11-21T00:00:00",
          "2019-11-22T00:00:00",
          "2019-11-25T00:00:00",
          "2019-11-26T00:00:00",
          "2019-11-27T00:00:00",
          "2019-11-29T00:00:00",
          "2019-12-02T00:00:00",
          "2019-12-03T00:00:00",
          "2019-12-04T00:00:00",
          "2019-12-05T00:00:00",
          "2019-12-06T00:00:00",
          "2019-12-09T00:00:00",
          "2019-12-10T00:00:00",
          "2019-12-11T00:00:00",
          "2019-12-12T00:00:00",
          "2019-12-13T00:00:00",
          "2019-12-16T00:00:00",
          "2019-12-17T00:00:00",
          "2019-12-18T00:00:00",
          "2019-12-19T00:00:00",
          "2019-12-20T00:00:00",
          "2019-12-23T00:00:00",
          "2019-12-24T00:00:00",
          "2019-12-26T00:00:00",
          "2019-12-27T00:00:00",
          "2019-12-30T00:00:00"
         ],
         "y": [
          -0.0605102029937549,
          0.0528472201135369,
          -0.0249907039826276,
          0.019571991985199,
          0.0184919002641748,
          0.0246942912997796,
          0.0107239428136086,
          -0.0038832625272937,
          -0.0069665464703579,
          0.0192562800479688,
          0.0342462862469547,
          -0.0520908651023186,
          0.0034019918293532,
          0.057179497331816,
          0.0145427808020734,
          -0.0465399412867723,
          0.0439033412139978,
          0.0461985175616974,
          0.0067247287709781,
          0.0306543037029201,
          0.0050675152801978,
          0.0202462927436684,
          -0.0365639346968703,
          0.0049935073299157,
          -0.0117025296015914,
          0.0321349903550105,
          0.0112176806549548,
          0.0106986755919657,
          0.0180900337221239,
          -0.0045432051575698,
          0.0120992046312298,
          -0.0176290275314793,
          0.0218604532536206,
          -0.0032358705495662,
          -0.0101147608034571,
          -0.0108522454830215,
          -0.0064715883599134,
          0.0141025819368823,
          0.0020150429417641,
          -0.0017535763246832,
          -0.0286543318355565,
          -0.0184440192898594,
          0.0091505906821623,
          0.0696080591998525,
          0.0084690062235531,
          0.0374390134347826,
          -0.018241681726232,
          0.0255753418572764,
          -0.0051591414443733,
          0.0399164312225805,
          -0.007550948240838,
          0.054606159800733,
          -0.0351064889655335,
          -0.0210524084031281,
          0.0176854936804197,
          -0.0021865870268544,
          0.0041554257306658,
          0.0129399374652702,
          0.0150560460669336,
          0.0038556788484714,
          0.0306164659596812,
          -0.0020025815531455,
          0.0141946877950721,
          0.004305057262298,
          -0.0132851439595802,
          0.0149120001289262,
          -0.0030090641312204,
          -0.0080821608325354,
          -0.0280396025158997,
          0.018909503261024,
          -0.004982603935457,
          -0.005379793484253,
          0.0115537848850702,
          0.0115778386346344,
          0.0025281641682058,
          -0.0223775212255544,
          -0.0472821601731111,
          0.0068690256027535,
          0.0092184392742975,
          -0.0030218111146737,
          0.0149776759250565,
          -0.0010768353355901,
          -0.0173603461562823,
          -0.0375697064463418,
          0.0045850085197445,
          -0.0215406541609583,
          -0.0081437862036664,
          -0.0615196929851194,
          0.0225635863882313,
          -0.0152745848653923,
          0.0037296048181031,
          -0.0229402053570513,
          -0.0306293747741678,
          0.0217197833065614,
          -0.0185366247736279,
          -0.0321543944948346,
          -0.014820626884616,
          -0.0126298652539065,
          -0.0209523151860574,
          -0.0077245957961606,
          -0.0263292495955001,
          -0.0124926826845565,
          0.068828106473115,
          -0.0121187180629107,
          0.017605911867797,
          0.0118748287341254,
          0.0200494003398088,
          0.0155422260568004,
          -0.0302682904508023,
          0.0140055067745062,
          -0.0245008326261572,
          0.0026114582759246,
          0.0540405134129027,
          0.0014856976039111,
          0.0063176448187166,
          -0.0152665245662186,
          0.005848738198965,
          -0.0078121411680524,
          0.0512768036829264,
          0.0248451502813895,
          0.0060453490729989,
          0.0117312153142043,
          -0.0237960202353808,
          0.0031199486985703,
          -0.0155696711491976,
          -0.0189346063270325,
          0.0005492586395769,
          0.0173966750559434,
          0.0387771835980978,
          0.0079154953971787,
          -0.002110973152267,
          -0.0012196502404301,
          0.0156590098656069,
          0.0026895370760084,
          -0.0103042899454272,
          0.0170175682150323,
          0.0252520345060529,
          0.0169975328179844,
          -0.0296352771157824,
          0.0096657198505261,
          -0.0015093525561886,
          0.0035226919540337,
          -0.038439100540516,
          -0.0226028568214105,
          -0.0226965033794005,
          0.0102663452782,
          0.0100300877277313,
          0.0283187490654088,
          -0.0258580112865877,
          -0.0177826996963693,
          0.030295314990678,
          -0.0087358539571059,
          0.0724558662629109,
          0.0702445489941023,
          -0.0171147364451529,
          0.0199389011034545,
          0.0013835712476074,
          0.0184527470283849,
          -0.0221377196337671,
          -0.0026753053635682,
          0.0357748327828974,
          0.0029767792251035,
          -0.0200146215355691,
          0.0278831272323608,
          0.0649865351577938,
          -0.0061399344615611,
          0.0102796158598619,
          0.0147716245209924,
          0.0062023371508747,
          -0.000400829509337,
          -0.0127199686932814,
          -0.0095858639760242,
          0.004695587004095,
          -0.0060946234090823,
          -0.0169656345527619,
          -0.0240927718509597,
          0.0123769653516627,
          -0.0132866161161228,
          0.0329645094544954,
          -0.0050638133287566,
          -0.0315333598615616,
          0.0133784652647155,
          -0.0004717485700351,
          -0.0055860571639793,
          0.0477264199491956,
          0.0035744508310302,
          0.0129029307642948,
          -0.0385838202181942,
          0.0195708353827722,
          0.012773619033279,
          0.0161077788216332,
          0.0028391837235476,
          0.0526886902525861,
          -0.0110637618244971,
          0.0003476030938023,
          -0.0196229689611513,
          0.0289132384734642,
          -0.0021046244745986,
          -0.002722307597417,
          0.0090082621347227,
          0.0389479665474379,
          0.0109365238999467,
          -0.0187779693366593,
          0.0003311054278065,
          -0.0098131970289134,
          0.0077512595086053,
          0.0389847578737593,
          -0.0042882899632476,
          -0.0095062897894493,
          0.0033592663435669,
          -0.0027477877843626,
          0.0018651847228342,
          0.0068081606929625,
          -0.0050225386570334,
          0.0057888147984229,
          -0.026753982297616,
          0.039559424715336,
          -0.0202694940108789,
          0.015276720043988,
          -0.0047960582000476,
          0.0033167874971471,
          0.048874589999255,
          -0.0190941658087167,
          0.006394519820655,
          -0.0069343668108026,
          -0.03461858910666,
          -0.00765972608946,
          0.0084161650069787,
          -0.0033063793123742,
          0.0163731303305706,
          -0.000059444445466238355,
          0.0084708162553967,
          0.0156423138756263,
          0.030904317180582,
          -0.0004176012201728,
          0.0051182136497748,
          0.0138856764108412,
          0.005283930936838,
          0.025864044947756,
          0.0165452115007951,
          -0.0023582639004396,
          -0.0008983545641983,
          0.0023276417595778,
          -0.0097593434130453,
          -0.0192681480790656
         ]
        },
        {
         "line": {
          "color": "red",
          "dash": "dash"
         },
         "mode": "lines",
         "name": "Predicted Returns (Test)",
         "type": "scatter",
         "x": [
          "2019-01-03T00:00:00",
          "2019-01-07T00:00:00",
          "2019-01-08T00:00:00",
          "2019-01-09T00:00:00",
          "2019-01-10T00:00:00",
          "2019-01-11T00:00:00",
          "2019-01-14T00:00:00",
          "2019-01-15T00:00:00",
          "2019-01-16T00:00:00",
          "2019-01-17T00:00:00",
          "2019-01-18T00:00:00",
          "2019-01-22T00:00:00",
          "2019-01-23T00:00:00",
          "2019-01-24T00:00:00",
          "2019-01-25T00:00:00",
          "2019-01-29T00:00:00",
          "2019-01-30T00:00:00",
          "2019-01-31T00:00:00",
          "2019-02-01T00:00:00",
          "2019-02-04T00:00:00",
          "2019-02-05T00:00:00",
          "2019-02-06T00:00:00",
          "2019-02-07T00:00:00",
          "2019-02-08T00:00:00",
          "2019-02-11T00:00:00",
          "2019-02-12T00:00:00",
          "2019-02-13T00:00:00",
          "2019-02-14T00:00:00",
          "2019-02-15T00:00:00",
          "2019-02-19T00:00:00",
          "2019-02-20T00:00:00",
          "2019-02-21T00:00:00",
          "2019-02-22T00:00:00",
          "2019-02-25T00:00:00",
          "2019-02-26T00:00:00",
          "2019-02-27T00:00:00",
          "2019-02-28T00:00:00",
          "2019-03-01T00:00:00",
          "2019-03-04T00:00:00",
          "2019-03-05T00:00:00",
          "2019-03-06T00:00:00",
          "2019-03-07T00:00:00",
          "2019-03-08T00:00:00",
          "2019-03-11T00:00:00",
          "2019-03-12T00:00:00",
          "2019-03-13T00:00:00",
          "2019-03-14T00:00:00",
          "2019-03-15T00:00:00",
          "2019-03-18T00:00:00",
          "2019-03-19T00:00:00",
          "2019-03-20T00:00:00",
          "2019-03-21T00:00:00",
          "2019-03-22T00:00:00",
          "2019-03-25T00:00:00",
          "2019-03-26T00:00:00",
          "2019-03-27T00:00:00",
          "2019-03-28T00:00:00",
          "2019-03-29T00:00:00",
          "2019-04-01T00:00:00",
          "2019-04-02T00:00:00",
          "2019-04-03T00:00:00",
          "2019-04-04T00:00:00",
          "2019-04-05T00:00:00",
          "2019-04-08T00:00:00",
          "2019-04-09T00:00:00",
          "2019-04-10T00:00:00",
          "2019-04-11T00:00:00",
          "2019-04-12T00:00:00",
          "2019-04-15T00:00:00",
          "2019-04-16T00:00:00",
          "2019-04-17T00:00:00",
          "2019-04-18T00:00:00",
          "2019-04-22T00:00:00",
          "2019-04-23T00:00:00",
          "2019-04-24T00:00:00",
          "2019-04-25T00:00:00",
          "2019-04-26T00:00:00",
          "2019-04-29T00:00:00",
          "2019-04-30T00:00:00",
          "2019-05-01T00:00:00",
          "2019-05-02T00:00:00",
          "2019-05-03T00:00:00",
          "2019-05-06T00:00:00",
          "2019-05-07T00:00:00",
          "2019-05-08T00:00:00",
          "2019-05-09T00:00:00",
          "2019-05-10T00:00:00",
          "2019-05-13T00:00:00",
          "2019-05-14T00:00:00",
          "2019-05-15T00:00:00",
          "2019-05-16T00:00:00",
          "2019-05-17T00:00:00",
          "2019-05-20T00:00:00",
          "2019-05-21T00:00:00",
          "2019-05-22T00:00:00",
          "2019-05-23T00:00:00",
          "2019-05-24T00:00:00",
          "2019-05-28T00:00:00",
          "2019-05-29T00:00:00",
          "2019-05-30T00:00:00",
          "2019-05-31T00:00:00",
          "2019-06-03T00:00:00",
          "2019-06-04T00:00:00",
          "2019-06-05T00:00:00",
          "2019-06-06T00:00:00",
          "2019-06-07T00:00:00",
          "2019-06-10T00:00:00",
          "2019-06-11T00:00:00",
          "2019-06-12T00:00:00",
          "2019-06-13T00:00:00",
          "2019-06-14T00:00:00",
          "2019-06-17T00:00:00",
          "2019-06-18T00:00:00",
          "2019-06-19T00:00:00",
          "2019-06-20T00:00:00",
          "2019-06-21T00:00:00",
          "2019-06-24T00:00:00",
          "2019-06-25T00:00:00",
          "2019-06-26T00:00:00",
          "2019-06-27T00:00:00",
          "2019-06-28T00:00:00",
          "2019-07-01T00:00:00",
          "2019-07-02T00:00:00",
          "2019-07-03T00:00:00",
          "2019-07-05T00:00:00",
          "2019-07-08T00:00:00",
          "2019-07-09T00:00:00",
          "2019-07-10T00:00:00",
          "2019-07-11T00:00:00",
          "2019-07-12T00:00:00",
          "2019-07-15T00:00:00",
          "2019-07-16T00:00:00",
          "2019-07-17T00:00:00",
          "2019-07-18T00:00:00",
          "2019-07-19T00:00:00",
          "2019-07-22T00:00:00",
          "2019-07-23T00:00:00",
          "2019-07-24T00:00:00",
          "2019-07-25T00:00:00",
          "2019-07-26T00:00:00",
          "2019-07-29T00:00:00",
          "2019-07-30T00:00:00",
          "2019-07-31T00:00:00",
          "2019-08-01T00:00:00",
          "2019-08-02T00:00:00",
          "2019-08-06T00:00:00",
          "2019-08-07T00:00:00",
          "2019-08-08T00:00:00",
          "2019-08-09T00:00:00",
          "2019-08-12T00:00:00",
          "2019-08-13T00:00:00",
          "2019-08-15T00:00:00",
          "2019-08-16T00:00:00",
          "2019-08-19T00:00:00",
          "2019-08-20T00:00:00",
          "2019-08-21T00:00:00",
          "2019-08-22T00:00:00",
          "2019-08-26T00:00:00",
          "2019-08-27T00:00:00",
          "2019-08-28T00:00:00",
          "2019-08-29T00:00:00",
          "2019-08-30T00:00:00",
          "2019-09-03T00:00:00",
          "2019-09-04T00:00:00",
          "2019-09-05T00:00:00",
          "2019-09-06T00:00:00",
          "2019-09-09T00:00:00",
          "2019-09-10T00:00:00",
          "2019-09-11T00:00:00",
          "2019-09-12T00:00:00",
          "2019-09-13T00:00:00",
          "2019-09-16T00:00:00",
          "2019-09-17T00:00:00",
          "2019-09-18T00:00:00",
          "2019-09-19T00:00:00",
          "2019-09-20T00:00:00",
          "2019-09-23T00:00:00",
          "2019-09-24T00:00:00",
          "2019-09-25T00:00:00",
          "2019-09-26T00:00:00",
          "2019-09-27T00:00:00",
          "2019-09-30T00:00:00",
          "2019-10-01T00:00:00",
          "2019-10-02T00:00:00",
          "2019-10-03T00:00:00",
          "2019-10-04T00:00:00",
          "2019-10-07T00:00:00",
          "2019-10-08T00:00:00",
          "2019-10-09T00:00:00",
          "2019-10-10T00:00:00",
          "2019-10-11T00:00:00",
          "2019-10-14T00:00:00",
          "2019-10-15T00:00:00",
          "2019-10-16T00:00:00",
          "2019-10-17T00:00:00",
          "2019-10-18T00:00:00",
          "2019-10-21T00:00:00",
          "2019-10-22T00:00:00",
          "2019-10-23T00:00:00",
          "2019-10-24T00:00:00",
          "2019-10-25T00:00:00",
          "2019-10-28T00:00:00",
          "2019-10-29T00:00:00",
          "2019-10-30T00:00:00",
          "2019-10-31T00:00:00",
          "2019-11-01T00:00:00",
          "2019-11-04T00:00:00",
          "2019-11-05T00:00:00",
          "2019-11-06T00:00:00",
          "2019-11-07T00:00:00",
          "2019-11-08T00:00:00",
          "2019-11-11T00:00:00",
          "2019-11-12T00:00:00",
          "2019-11-13T00:00:00",
          "2019-11-14T00:00:00",
          "2019-11-15T00:00:00",
          "2019-11-18T00:00:00",
          "2019-11-19T00:00:00",
          "2019-11-20T00:00:00",
          "2019-11-21T00:00:00",
          "2019-11-22T00:00:00",
          "2019-11-25T00:00:00",
          "2019-11-26T00:00:00",
          "2019-11-27T00:00:00",
          "2019-11-29T00:00:00",
          "2019-12-02T00:00:00",
          "2019-12-03T00:00:00",
          "2019-12-04T00:00:00",
          "2019-12-05T00:00:00",
          "2019-12-06T00:00:00",
          "2019-12-09T00:00:00",
          "2019-12-10T00:00:00",
          "2019-12-11T00:00:00",
          "2019-12-12T00:00:00",
          "2019-12-13T00:00:00",
          "2019-12-16T00:00:00",
          "2019-12-17T00:00:00",
          "2019-12-18T00:00:00",
          "2019-12-19T00:00:00",
          "2019-12-20T00:00:00",
          "2019-12-23T00:00:00",
          "2019-12-24T00:00:00",
          "2019-12-26T00:00:00",
          "2019-12-27T00:00:00",
          "2019-12-30T00:00:00"
         ],
         "y": [
          -0.03647588392249238,
          0.01203479302659473,
          0.016131888147018082,
          0.0075851402692719274,
          0.008227987037382057,
          0.0011049602010230648,
          -0.006699614932840172,
          0.017700304290288186,
          0.00472190917086981,
          0.012921844498189288,
          0.02146109096312037,
          -0.02028925832077017,
          0.004693389857250726,
          0.0034331291242326225,
          0.01429370724321907,
          -0.0008951149019195162,
          0.025073416225626026,
          0.014458975028076377,
          0.00270242144290035,
          0.011678247641222309,
          0.008518737976325245,
          -0.0020681938210332673,
          -0.012959694308578051,
          0.0023612732748078975,
          0.002410910837912016,
          0.02101210490121817,
          0.005946024088499823,
          -0.002721046622061911,
          0.01794093912444742,
          0.003616864720788237,
          0.004041344164838811,
          -0.0040582497799630645,
          0.011117148943738381,
          0.003208108261715163,
          0.00011946860065735413,
          0.0004961736158864973,
          -0.0029871586058186203,
          0.011857491017171531,
          -0.004597805009796408,
          -0.00040137652050435126,
          -0.008636483059208354,
          -0.011081654744623552,
          -0.0019282565147145541,
          0.02372377352812115,
          0.005836763310729131,
          0.011939748554361387,
          0.0000017484757118240165,
          0.00893955126722853,
          0.006986682929549855,
          0.0011268696169631713,
          -0.0031701581501286783,
          0.017898517997383213,
          -0.027648644484223963,
          0.00004591481828404783,
          0.01229474167240809,
          -0.005764308450039866,
          0.006809741602267776,
          0.011614601329878547,
          0.018997229857791783,
          0.0013550226668540173,
          0.004608897997901587,
          0.004511741858494955,
          0.008408505172915224,
          0.0029282100418923265,
          -0.007936794338630983,
          0.006639730009729237,
          0.001386886069635843,
          0.011420937476524002,
          0.00036788450587181554,
          0.0021057051141484774,
          -0.002144499850739195,
          0.0037400476537764243,
          0.0028734811939270374,
          0.01482825882346628,
          -0.002018903216666997,
          0.0007652225385391051,
          0.00848372263098491,
          0.002965257635133954,
          0.0027813643381503234,
          -0.010127506811404795,
          -0.0019152814829285169,
          0.016046775907465505,
          -0.005498703270357121,
          -0.02388589245729601,
          -0.0011232236485396534,
          -0.003285548439731082,
          0.007009505847311549,
          -0.035519373171876464,
          0.013570272623641508,
          0.010246078511711458,
          0.014913995674525758,
          -0.007583202321136488,
          -0.008975348524778598,
          0.01430449164304259,
          -0.0029816427167376073,
          -0.016861265768577414,
          0.0034003095064241407,
          -0.011457481188939366,
          -0.00922221603722301,
          0.004536506685392107,
          -0.018817171574211866,
          -0.002888883820702205,
          0.034061554380090384,
          0.013797207821792567,
          0.010704780877144692,
          0.0173684354595686,
          0.008453651459944306,
          0.0008035903162461898,
          -0.0017707284765381796,
          0.007599276466801072,
          -0.0011176718067015393,
          0.0027652678675947964,
          0.016179717685880595,
          0.005901754666723503,
          0.01581071250420172,
          -0.0005754612609489161,
          -0.0012974324795100725,
          -0.013155866613041616,
          -0.0005391459449136217,
          0.007183878164829069,
          0.010140676673896286,
          0.013062958499971347,
          0.005813260650190792,
          0.013057926242783166,
          -0.0014168204109737432,
          -0.00604404100550045,
          0.003227275285431375,
          0.00823103054444059,
          0.004834541152829865,
          0.008400645192959395,
          0.0016142008809659977,
          -0.0038532479399327217,
          -0.008627275328096993,
          0.006819946856133501,
          -0.008082280773106746,
          0.005668876530307858,
          0.011805345621345421,
          0.008507474953742784,
          -0.006688881724772093,
          0.012628461569289142,
          -0.001120155595664479,
          -0.002589412128172285,
          -0.015273946144338298,
          -0.012392781616311363,
          -0.009770436171960056,
          0.02122893427433743,
          0.0025237975468253545,
          0.030003880096586073,
          -0.00875017639908762,
          -0.017454212153810624,
          0.02446060045670956,
          0.005123401458412966,
          0.02339115714529939,
          0.019846150483130827,
          -0.010729463230591308,
          0.013948556067235387,
          0.0005817352422552222,
          0.018126594292405585,
          -0.0035372260872657095,
          0.011349803476907935,
          0.020728754764438737,
          0.0023364264322960583,
          -0.009179139678308393,
          0.01791311442831869,
          0.02122247885462842,
          0.002746795765458311,
          0.0012128029887097215,
          0.0018482398638096638,
          0.01239625969615636,
          0.005753807235051666,
          0.0002506191453393144,
          -0.003434126837196232,
          0.005297051004317267,
          0.0018813728552495655,
          0.0013883805148041937,
          -0.006115990579724917,
          0.0012121529762724743,
          -0.011494294310138431,
          0.010764725602843212,
          -0.0023443901346746824,
          -0.0067512714918174805,
          0.009072753541562152,
          -0.017353588820342956,
          -0.025972525042617933,
          0.013544724260490588,
          0.023081834049904323,
          -0.005468047872159693,
          -0.02239070273915371,
          0.015276490637039135,
          0.011170217097719731,
          0.018078173113064797,
          -0.0007442855304170142,
          0.01657691084113239,
          -0.0016793156604801135,
          0.0055925380131446895,
          -0.004611586096045098,
          0.0118669228114591,
          -0.004075470819654663,
          0.00572190195036877,
          0.004306281445313986,
          0.007592794233093854,
          0.009897794906353412,
          0.00010419218308486566,
          0.006343440708435714,
          -0.003234899406832508,
          0.01613698346486511,
          0.007037293173441998,
          -0.0004306448582232532,
          0.002452937393512252,
          0.005549031359555109,
          0.00529080201525367,
          -0.0016165178744406484,
          0.00376840477763921,
          0.002465526086522078,
          0.002657609487249782,
          0.013130907590528377,
          0.0021480406196623903,
          0.000474641043227671,
          -0.004356066168294813,
          -0.0010376981335701748,
          0.00469975126550169,
          0.012842488731073406,
          0.004729928649860618,
          0.007751769136676926,
          -0.004746734092607276,
          -0.011801353620488658,
          -0.008758024833810983,
          0.011037712415494,
          0.0036724934232221693,
          0.015333152104518789,
          -0.0034486288221265912,
          -0.0002949128760202634,
          0.005820823884992054,
          0.014474203969821759,
          0.0014905301964286122,
          0.012294711210891963,
          0.001891282179119359,
          0.0007198451515368932,
          0.008188719942872805,
          0.008930396760800811,
          0.0027025332042119854,
          0.0010803217724089289,
          0.009210014469628497,
          0.0014318929193542246,
          -0.007446004258068783
         ]
        }
       ],
       "layout": {
        "hovermode": "x unified",
        "legend": {
         "x": 0,
         "y": 1
        },
        "template": {
         "data": {
          "bar": [
           {
            "error_x": {
             "color": "#2a3f5f"
            },
            "error_y": {
             "color": "#2a3f5f"
            },
            "marker": {
             "line": {
              "color": "#E5ECF6",
              "width": 0.5
             },
             "pattern": {
              "fillmode": "overlay",
              "size": 10,
              "solidity": 0.2
             }
            },
            "type": "bar"
           }
          ],
          "barpolar": [
           {
            "marker": {
             "line": {
              "color": "#E5ECF6",
              "width": 0.5
             },
             "pattern": {
              "fillmode": "overlay",
              "size": 10,
              "solidity": 0.2
             }
            },
            "type": "barpolar"
           }
          ],
          "carpet": [
           {
            "aaxis": {
             "endlinecolor": "#2a3f5f",
             "gridcolor": "white",
             "linecolor": "white",
             "minorgridcolor": "white",
             "startlinecolor": "#2a3f5f"
            },
            "baxis": {
             "endlinecolor": "#2a3f5f",
             "gridcolor": "white",
             "linecolor": "white",
             "minorgridcolor": "white",
             "startlinecolor": "#2a3f5f"
            },
            "type": "carpet"
           }
          ],
          "choropleth": [
           {
            "colorbar": {
             "outlinewidth": 0,
             "ticks": ""
            },
            "type": "choropleth"
           }
          ],
          "contour": [
           {
            "colorbar": {
             "outlinewidth": 0,
             "ticks": ""
            },
            "colorscale": [
             [
              0,
              "#0d0887"
             ],
             [
              0.1111111111111111,
              "#46039f"
             ],
             [
              0.2222222222222222,
              "#7201a8"
             ],
             [
              0.3333333333333333,
              "#9c179e"
             ],
             [
              0.4444444444444444,
              "#bd3786"
             ],
             [
              0.5555555555555556,
              "#d8576b"
             ],
             [
              0.6666666666666666,
              "#ed7953"
             ],
             [
              0.7777777777777778,
              "#fb9f3a"
             ],
             [
              0.8888888888888888,
              "#fdca26"
             ],
             [
              1,
              "#f0f921"
             ]
            ],
            "type": "contour"
           }
          ],
          "contourcarpet": [
           {
            "colorbar": {
             "outlinewidth": 0,
             "ticks": ""
            },
            "type": "contourcarpet"
           }
          ],
          "heatmap": [
           {
            "colorbar": {
             "outlinewidth": 0,
             "ticks": ""
            },
            "colorscale": [
             [
              0,
              "#0d0887"
             ],
             [
              0.1111111111111111,
              "#46039f"
             ],
             [
              0.2222222222222222,
              "#7201a8"
             ],
             [
              0.3333333333333333,
              "#9c179e"
             ],
             [
              0.4444444444444444,
              "#bd3786"
             ],
             [
              0.5555555555555556,
              "#d8576b"
             ],
             [
              0.6666666666666666,
              "#ed7953"
             ],
             [
              0.7777777777777778,
              "#fb9f3a"
             ],
             [
              0.8888888888888888,
              "#fdca26"
             ],
             [
              1,
              "#f0f921"
             ]
            ],
            "type": "heatmap"
           }
          ],
          "heatmapgl": [
           {
            "colorbar": {
             "outlinewidth": 0,
             "ticks": ""
            },
            "colorscale": [
             [
              0,
              "#0d0887"
             ],
             [
              0.1111111111111111,
              "#46039f"
             ],
             [
              0.2222222222222222,
              "#7201a8"
             ],
             [
              0.3333333333333333,
              "#9c179e"
             ],
             [
              0.4444444444444444,
              "#bd3786"
             ],
             [
              0.5555555555555556,
              "#d8576b"
             ],
             [
              0.6666666666666666,
              "#ed7953"
             ],
             [
              0.7777777777777778,
              "#fb9f3a"
             ],
             [
              0.8888888888888888,
              "#fdca26"
             ],
             [
              1,
              "#f0f921"
             ]
            ],
            "type": "heatmapgl"
           }
          ],
          "histogram": [
           {
            "marker": {
             "pattern": {
              "fillmode": "overlay",
              "size": 10,
              "solidity": 0.2
             }
            },
            "type": "histogram"
           }
          ],
          "histogram2d": [
           {
            "colorbar": {
             "outlinewidth": 0,
             "ticks": ""
            },
            "colorscale": [
             [
              0,
              "#0d0887"
             ],
             [
              0.1111111111111111,
              "#46039f"
             ],
             [
              0.2222222222222222,
              "#7201a8"
             ],
             [
              0.3333333333333333,
              "#9c179e"
             ],
             [
              0.4444444444444444,
              "#bd3786"
             ],
             [
              0.5555555555555556,
              "#d8576b"
             ],
             [
              0.6666666666666666,
              "#ed7953"
             ],
             [
              0.7777777777777778,
              "#fb9f3a"
             ],
             [
              0.8888888888888888,
              "#fdca26"
             ],
             [
              1,
              "#f0f921"
             ]
            ],
            "type": "histogram2d"
           }
          ],
          "histogram2dcontour": [
           {
            "colorbar": {
             "outlinewidth": 0,
             "ticks": ""
            },
            "colorscale": [
             [
              0,
              "#0d0887"
             ],
             [
              0.1111111111111111,
              "#46039f"
             ],
             [
              0.2222222222222222,
              "#7201a8"
             ],
             [
              0.3333333333333333,
              "#9c179e"
             ],
             [
              0.4444444444444444,
              "#bd3786"
             ],
             [
              0.5555555555555556,
              "#d8576b"
             ],
             [
              0.6666666666666666,
              "#ed7953"
             ],
             [
              0.7777777777777778,
              "#fb9f3a"
             ],
             [
              0.8888888888888888,
              "#fdca26"
             ],
             [
              1,
              "#f0f921"
             ]
            ],
            "type": "histogram2dcontour"
           }
          ],
          "mesh3d": [
           {
            "colorbar": {
             "outlinewidth": 0,
             "ticks": ""
            },
            "type": "mesh3d"
           }
          ],
          "parcoords": [
           {
            "line": {
             "colorbar": {
              "outlinewidth": 0,
              "ticks": ""
             }
            },
            "type": "parcoords"
           }
          ],
          "pie": [
           {
            "automargin": true,
            "type": "pie"
           }
          ],
          "scatter": [
           {
            "fillpattern": {
             "fillmode": "overlay",
             "size": 10,
             "solidity": 0.2
            },
            "type": "scatter"
           }
          ],
          "scatter3d": [
           {
            "line": {
             "colorbar": {
              "outlinewidth": 0,
              "ticks": ""
             }
            },
            "marker": {
             "colorbar": {
              "outlinewidth": 0,
              "ticks": ""
             }
            },
            "type": "scatter3d"
           }
          ],
          "scattercarpet": [
           {
            "marker": {
             "colorbar": {
              "outlinewidth": 0,
              "ticks": ""
             }
            },
            "type": "scattercarpet"
           }
          ],
          "scattergeo": [
           {
            "marker": {
             "colorbar": {
              "outlinewidth": 0,
              "ticks": ""
             }
            },
            "type": "scattergeo"
           }
          ],
          "scattergl": [
           {
            "marker": {
             "colorbar": {
              "outlinewidth": 0,
              "ticks": ""
             }
            },
            "type": "scattergl"
           }
          ],
          "scattermapbox": [
           {
            "marker": {
             "colorbar": {
              "outlinewidth": 0,
              "ticks": ""
             }
            },
            "type": "scattermapbox"
           }
          ],
          "scatterpolar": [
           {
            "marker": {
             "colorbar": {
              "outlinewidth": 0,
              "ticks": ""
             }
            },
            "type": "scatterpolar"
           }
          ],
          "scatterpolargl": [
           {
            "marker": {
             "colorbar": {
              "outlinewidth": 0,
              "ticks": ""
             }
            },
            "type": "scatterpolargl"
           }
          ],
          "scatterternary": [
           {
            "marker": {
             "colorbar": {
              "outlinewidth": 0,
              "ticks": ""
             }
            },
            "type": "scatterternary"
           }
          ],
          "surface": [
           {
            "colorbar": {
             "outlinewidth": 0,
             "ticks": ""
            },
            "colorscale": [
             [
              0,
              "#0d0887"
             ],
             [
              0.1111111111111111,
              "#46039f"
             ],
             [
              0.2222222222222222,
              "#7201a8"
             ],
             [
              0.3333333333333333,
              "#9c179e"
             ],
             [
              0.4444444444444444,
              "#bd3786"
             ],
             [
              0.5555555555555556,
              "#d8576b"
             ],
             [
              0.6666666666666666,
              "#ed7953"
             ],
             [
              0.7777777777777778,
              "#fb9f3a"
             ],
             [
              0.8888888888888888,
              "#fdca26"
             ],
             [
              1,
              "#f0f921"
             ]
            ],
            "type": "surface"
           }
          ],
          "table": [
           {
            "cells": {
             "fill": {
              "color": "#EBF0F8"
             },
             "line": {
              "color": "white"
             }
            },
            "header": {
             "fill": {
              "color": "#C8D4E3"
             },
             "line": {
              "color": "white"
             }
            },
            "type": "table"
           }
          ]
         },
         "layout": {
          "annotationdefaults": {
           "arrowcolor": "#2a3f5f",
           "arrowhead": 0,
           "arrowwidth": 1
          },
          "autotypenumbers": "strict",
          "coloraxis": {
           "colorbar": {
            "outlinewidth": 0,
            "ticks": ""
           }
          },
          "colorscale": {
           "diverging": [
            [
             0,
             "#8e0152"
            ],
            [
             0.1,
             "#c51b7d"
            ],
            [
             0.2,
             "#de77ae"
            ],
            [
             0.3,
             "#f1b6da"
            ],
            [
             0.4,
             "#fde0ef"
            ],
            [
             0.5,
             "#f7f7f7"
            ],
            [
             0.6,
             "#e6f5d0"
            ],
            [
             0.7,
             "#b8e186"
            ],
            [
             0.8,
             "#7fbc41"
            ],
            [
             0.9,
             "#4d9221"
            ],
            [
             1,
             "#276419"
            ]
           ],
           "sequential": [
            [
             0,
             "#0d0887"
            ],
            [
             0.1111111111111111,
             "#46039f"
            ],
            [
             0.2222222222222222,
             "#7201a8"
            ],
            [
             0.3333333333333333,
             "#9c179e"
            ],
            [
             0.4444444444444444,
             "#bd3786"
            ],
            [
             0.5555555555555556,
             "#d8576b"
            ],
            [
             0.6666666666666666,
             "#ed7953"
            ],
            [
             0.7777777777777778,
             "#fb9f3a"
            ],
            [
             0.8888888888888888,
             "#fdca26"
            ],
            [
             1,
             "#f0f921"
            ]
           ],
           "sequentialminus": [
            [
             0,
             "#0d0887"
            ],
            [
             0.1111111111111111,
             "#46039f"
            ],
            [
             0.2222222222222222,
             "#7201a8"
            ],
            [
             0.3333333333333333,
             "#9c179e"
            ],
            [
             0.4444444444444444,
             "#bd3786"
            ],
            [
             0.5555555555555556,
             "#d8576b"
            ],
            [
             0.6666666666666666,
             "#ed7953"
            ],
            [
             0.7777777777777778,
             "#fb9f3a"
            ],
            [
             0.8888888888888888,
             "#fdca26"
            ],
            [
             1,
             "#f0f921"
            ]
           ]
          },
          "colorway": [
           "#636efa",
           "#EF553B",
           "#00cc96",
           "#ab63fa",
           "#FFA15A",
           "#19d3f3",
           "#FF6692",
           "#B6E880",
           "#FF97FF",
           "#FECB52"
          ],
          "font": {
           "color": "#2a3f5f"
          },
          "geo": {
           "bgcolor": "white",
           "lakecolor": "white",
           "landcolor": "#E5ECF6",
           "showlakes": true,
           "showland": true,
           "subunitcolor": "white"
          },
          "hoverlabel": {
           "align": "left"
          },
          "hovermode": "closest",
          "mapbox": {
           "style": "light"
          },
          "paper_bgcolor": "white",
          "plot_bgcolor": "#E5ECF6",
          "polar": {
           "angularaxis": {
            "gridcolor": "white",
            "linecolor": "white",
            "ticks": ""
           },
           "bgcolor": "#E5ECF6",
           "radialaxis": {
            "gridcolor": "white",
            "linecolor": "white",
            "ticks": ""
           }
          },
          "scene": {
           "xaxis": {
            "backgroundcolor": "#E5ECF6",
            "gridcolor": "white",
            "gridwidth": 2,
            "linecolor": "white",
            "showbackground": true,
            "ticks": "",
            "zerolinecolor": "white"
           },
           "yaxis": {
            "backgroundcolor": "#E5ECF6",
            "gridcolor": "white",
            "gridwidth": 2,
            "linecolor": "white",
            "showbackground": true,
            "ticks": "",
            "zerolinecolor": "white"
           },
           "zaxis": {
            "backgroundcolor": "#E5ECF6",
            "gridcolor": "white",
            "gridwidth": 2,
            "linecolor": "white",
            "showbackground": true,
            "ticks": "",
            "zerolinecolor": "white"
           }
          },
          "shapedefaults": {
           "line": {
            "color": "#2a3f5f"
           }
          },
          "ternary": {
           "aaxis": {
            "gridcolor": "white",
            "linecolor": "white",
            "ticks": ""
           },
           "baxis": {
            "gridcolor": "white",
            "linecolor": "white",
            "ticks": ""
           },
           "bgcolor": "#E5ECF6",
           "caxis": {
            "gridcolor": "white",
            "linecolor": "white",
            "ticks": ""
           }
          },
          "title": {
           "x": 0.05
          },
          "xaxis": {
           "automargin": true,
           "gridcolor": "white",
           "linecolor": "white",
           "ticks": "",
           "title": {
            "standoff": 15
           },
           "zerolinecolor": "white",
           "zerolinewidth": 2
          },
          "yaxis": {
           "automargin": true,
           "gridcolor": "white",
           "linecolor": "white",
           "ticks": "",
           "title": {
            "standoff": 15
           },
           "zerolinecolor": "white",
           "zerolinewidth": 2
          }
         }
        },
        "title": {
         "text": "Test Set: Actual vs Predicted Returns"
        },
        "xaxis": {
         "title": {
          "text": "Date"
         }
        },
        "yaxis": {
         "title": {
          "text": "Log Returns (Differenced)"
         }
        }
       }
      }
     },
     "metadata": {},
     "output_type": "display_data"
    }
   ],
   "source": [
    "\n",
    "# Create Traces\n",
    "fig = go.Figure()\n",
    "\n",
    "# Actual Returns (Test)\n",
    "fig.add_trace(go.Scatter(x=linear_test_df.index, \n",
    "                         y=y_test, \n",
    "                         mode='lines', \n",
    "                         name='Actual Returns (Test)',\n",
    "                         line=dict(color='blue')))\n",
    "\n",
    "# Predicted Returns (Test)\n",
    "fig.add_trace(go.Scatter(x=linear_test_df.index, \n",
    "                         y=y_test_pred, \n",
    "                         mode='lines', \n",
    "                         name='Predicted Returns (Test)',\n",
    "                         line=dict(color='red', dash='dash')))\n",
    "\n",
    "# Update layout\n",
    "fig.update_layout(title='Test Set: Actual vs Predicted Returns',\n",
    "                  xaxis_title='Date',\n",
    "                  yaxis_title='Log Returns (Differenced)',\n",
    "                  legend=dict(x=0, y=1.0),\n",
    "                  hovermode='x unified')\n",
    "\n",
    "# Show the figure\n",
    "fig.show()\n"
   ]
  }
 ],
 "metadata": {
  "kernelspec": {
   "display_name": "base",
   "language": "python",
   "name": "python3"
  },
  "language_info": {
   "codemirror_mode": {
    "name": "ipython",
    "version": 3
   },
   "file_extension": ".py",
   "mimetype": "text/x-python",
   "name": "python",
   "nbconvert_exporter": "python",
   "pygments_lexer": "ipython3",
   "version": "3.11.4"
  }
 },
 "nbformat": 4,
 "nbformat_minor": 2
}
